{
 "cells": [
  {
   "cell_type": "code",
   "execution_count": 3,
   "metadata": {},
   "outputs": [
    {
     "name": "stdout",
     "output_type": "stream",
     "text": [
      "Requirement already satisfied: newspaper3k in c:\\programdata\\anaconda3\\lib\\site-packages (0.2.8)\n",
      "Requirement already satisfied: nltk>=3.2.1 in c:\\programdata\\anaconda3\\lib\\site-packages (from newspaper3k) (3.4.5)\n",
      "Requirement already satisfied: jieba3k>=0.35.1 in c:\\programdata\\anaconda3\\lib\\site-packages (from newspaper3k) (0.35.1)\n",
      "Requirement already satisfied: feedfinder2>=0.0.4 in c:\\programdata\\anaconda3\\lib\\site-packages (from newspaper3k) (0.0.4)\n",
      "Requirement already satisfied: python-dateutil>=2.5.3 in c:\\programdata\\anaconda3\\lib\\site-packages (from newspaper3k) (2.8.1)\n",
      "Requirement already satisfied: tldextract>=2.0.1 in c:\\programdata\\anaconda3\\lib\\site-packages (from newspaper3k) (2.2.3)\n",
      "Requirement already satisfied: requests>=2.10.0 in c:\\programdata\\anaconda3\\lib\\site-packages (from newspaper3k) (2.22.0)\n",
      "Requirement already satisfied: lxml>=3.6.0 in c:\\programdata\\anaconda3\\lib\\site-packages (from newspaper3k) (4.5.0)\n",
      "Requirement already satisfied: PyYAML>=3.11 in c:\\programdata\\anaconda3\\lib\\site-packages (from newspaper3k) (5.3)\n",
      "Requirement already satisfied: feedparser>=5.2.1 in c:\\programdata\\anaconda3\\lib\\site-packages (from newspaper3k) (6.0.1)\n",
      "Requirement already satisfied: Pillow>=3.3.0 in c:\\programdata\\anaconda3\\lib\\site-packages (from newspaper3k) (7.0.0)\n",
      "Requirement already satisfied: tinysegmenter==0.3 in c:\\programdata\\anaconda3\\lib\\site-packages (from newspaper3k) (0.3)\n",
      "Requirement already satisfied: cssselect>=0.9.2 in c:\\programdata\\anaconda3\\lib\\site-packages (from newspaper3k) (1.1.0)\n",
      "Requirement already satisfied: beautifulsoup4>=4.4.1 in c:\\programdata\\anaconda3\\lib\\site-packages (from newspaper3k) (4.8.2)\n",
      "Requirement already satisfied: six in c:\\programdata\\anaconda3\\lib\\site-packages (from nltk>=3.2.1->newspaper3k) (1.14.0)\n",
      "Requirement already satisfied: requests-file>=1.4 in c:\\programdata\\anaconda3\\lib\\site-packages (from tldextract>=2.0.1->newspaper3k) (1.5.1)\n",
      "Requirement already satisfied: idna in c:\\programdata\\anaconda3\\lib\\site-packages (from tldextract>=2.0.1->newspaper3k) (2.8)\n",
      "Requirement already satisfied: chardet<3.1.0,>=3.0.2 in c:\\programdata\\anaconda3\\lib\\site-packages (from requests>=2.10.0->newspaper3k) (3.0.4)\n",
      "Requirement already satisfied: certifi>=2017.4.17 in c:\\programdata\\anaconda3\\lib\\site-packages (from requests>=2.10.0->newspaper3k) (2019.11.28)\n",
      "Requirement already satisfied: urllib3!=1.25.0,!=1.25.1,<1.26,>=1.21.1 in c:\\programdata\\anaconda3\\lib\\site-packages (from requests>=2.10.0->newspaper3k) (1.25.8)\n",
      "Requirement already satisfied: sgmllib3k in c:\\programdata\\anaconda3\\lib\\site-packages (from feedparser>=5.2.1->newspaper3k) (1.0.0)\n",
      "Requirement already satisfied: soupsieve>=1.2 in c:\\programdata\\anaconda3\\lib\\site-packages (from beautifulsoup4>=4.4.1->newspaper3k) (1.9.5)\n",
      "Note: you may need to restart the kernel to use updated packages.\n"
     ]
    }
   ],
   "source": [
    "pip install newspaper3k"
   ]
  },
  {
   "cell_type": "code",
   "execution_count": 4,
   "metadata": {},
   "outputs": [],
   "source": [
    "import nltk\n",
    "from newspaper import Article"
   ]
  },
  {
   "cell_type": "code",
   "execution_count": 5,
   "metadata": {},
   "outputs": [],
   "source": [
    "url='https://timesofindia.indiatimes.com/life-style/health-fitness/health-news/coronavirus-vaccine-7-participants-disqualified-from-oxford-phase-iii-trials-here-are-factors-that-are-considered/photostory/78298632.cms'\n",
    "article=Article(url)"
   ]
  },
  {
   "cell_type": "code",
   "execution_count": 6,
   "metadata": {},
   "outputs": [
    {
     "name": "stderr",
     "output_type": "stream",
     "text": [
      "[nltk_data] Downloading package punkt to\n",
      "[nltk_data]     C:\\Users\\lenovo\\AppData\\Roaming\\nltk_data...\n",
      "[nltk_data]   Package punkt is already up-to-date!\n"
     ]
    }
   ],
   "source": [
    "article.download()\n",
    "article.parse()\n",
    "nltk.download('punkt')\n",
    "article.nlp()\n"
   ]
  },
  {
   "cell_type": "code",
   "execution_count": 7,
   "metadata": {},
   "outputs": [
    {
     "data": {
      "text/plain": [
       "[]"
      ]
     },
     "execution_count": 7,
     "metadata": {},
     "output_type": "execute_result"
    }
   ],
   "source": [
    "article.authors"
   ]
  },
  {
   "cell_type": "code",
   "execution_count": 8,
   "metadata": {},
   "outputs": [
    {
     "data": {
      "text/plain": [
       "datetime.datetime(2020, 9, 25, 10, 57, 41, tzinfo=tzoffset(None, 19800))"
      ]
     },
     "execution_count": 8,
     "metadata": {},
     "output_type": "execute_result"
    }
   ],
   "source": [
    "article.publish_date"
   ]
  },
  {
   "cell_type": "code",
   "execution_count": 9,
   "metadata": {},
   "outputs": [
    {
     "data": {
      "text/plain": [
       "'https://static.toiimg.com/photo/78298816.cms'"
      ]
     },
     "execution_count": 9,
     "metadata": {},
     "output_type": "execute_result"
    }
   ],
   "source": [
    "article.top_image"
   ]
  },
  {
   "cell_type": "code",
   "execution_count": 10,
   "metadata": {},
   "outputs": [
    {
     "name": "stdout",
     "output_type": "stream",
     "text": [
      "However, even though some groups are running 'short' of volunteers, there are others who are not accepted into phase III trials. Oxford-AstraZeneca, which is one of the most promising vaccine candidates is running phase III trials in India as 'Covishield'. While the testing is seeing an active response from the public, recent reports have suggested that at least seven participants have been found ineligible for vaccine testing, as the Serum Institute of India began phase III testing at a government facility in Pune.\n",
      "\n",
      "According to an agency report, the volunteers in question were disqualified because of medical reasons and would be screened again this week.\n",
      "\n",
      "\"All seven candidates who were selected on Monday have become ineligible due to various medical reasons, including antibody test coming positive for some...Some more candidates have been screened today (Tuesday) and if their results in the antibody and COVID-19 tests are negative and if they are eligible on other medical grounds, they will be administered vaccine candidate..\"\n",
      "\n",
      "It should be noted that while volunteers, in any trial have the option to opt-out or leave the trial at any time, there are specific guidelines as to who can enrol for the trial, be tested on, followed globally.\n"
     ]
    }
   ],
   "source": [
    "print(article.text)"
   ]
  },
  {
   "cell_type": "code",
   "execution_count": 11,
   "metadata": {},
   "outputs": [],
   "source": [
    "url1='https://www.edureka.co/blog/what-is-data-science/'\n",
    "article1=Article(url1)"
   ]
  },
  {
   "cell_type": "code",
   "execution_count": 12,
   "metadata": {},
   "outputs": [
    {
     "name": "stderr",
     "output_type": "stream",
     "text": [
      "[nltk_data] Downloading package punkt to\n",
      "[nltk_data]     C:\\Users\\lenovo\\AppData\\Roaming\\nltk_data...\n",
      "[nltk_data]   Package punkt is already up-to-date!\n"
     ]
    }
   ],
   "source": [
    "article1.download()\n",
    "article1.parse()\n",
    "nltk.download('punkt')\n",
    "article1.nlp()"
   ]
  },
  {
   "cell_type": "code",
   "execution_count": 13,
   "metadata": {},
   "outputs": [
    {
     "data": {
      "text/plain": [
       "['Hemant Sharma']"
      ]
     },
     "execution_count": 13,
     "metadata": {},
     "output_type": "execute_result"
    }
   ],
   "source": [
    "article1.authors"
   ]
  },
  {
   "cell_type": "code",
   "execution_count": 14,
   "metadata": {},
   "outputs": [
    {
     "name": "stdout",
     "output_type": "stream",
     "text": [
      "As the world entered the era of big data, the need for its storage also grew. It was the main challenge and concern for the enterprise industries until 2010. The main focus was on building a framework and solutions to store data. Now when Hadoop and other frameworks have successfully solved the problem of storage, the focus has shifted to the processing of this data. Data Science is the secret sauce here. All the ideas which you see in Hollywood sci-fi movies can actually turn into reality by Data Science. Data Science is the future of Artificial Intelligence. Therefore, it is very important to understand what is Data Science and how can it add value to your business.\n",
      "\n",
      "\n",
      "\n",
      "Edureka 2019 Tech Career Guide is out! Hottest job roles, precise learning paths, industry outlook & more in the guide. Download now.\n",
      "\n",
      "In this blog, I will be covering the following topics.\n",
      "\n",
      "By the end of this blog, you will be able to understand what is Data Science and its role in extracting meaningful insights from the complex and large sets of data all around us. To get in-depth knowledge on Data Science, you can enroll for live Data Science Certification Training by Edureka with 24/7 support and lifetime access.\n",
      "\n",
      "What is Data Science?\n",
      "\n",
      "Data Science is a blend of various tools, algorithms, and machine learning principles with the goal to discover hidden patterns from the raw data. But how is this different from what statisticians have been doing for years?\n",
      "\n",
      "The answer lies in the difference between explaining and predicting.\n",
      "\n",
      "As you can see from the above image, a Data Analyst usually explains what is going on by processing history of the data. On the other hand, Data Scientist not only does the exploratory analysis to discover insights from it, but also uses various advanced machine learning algorithms to identify the occurrence of a particular event in the future. A Data Scientist will look at the data from many angles, sometimes angles not known earlier.\n",
      "\n",
      "So, Data Science is primarily used to make decisions and predictions making use of predictive causal analytics, prescriptive analytics (predictive plus decision science) and machine learning.\n",
      "\n",
      "Predictive causal analytics – If you want a model that can predict the possibilities of a particular event in the future, you need to apply predictive causal analytics. Say, if you are providing money on credit, then the probability of customers making future credit payments on time is a matter of concern for you. Here, you can build a model that can perform predictive analytics on the payment history of the customer to predict if the future payments will be on time or not.\n",
      "\n",
      "Prescriptive analytics: If you want a model that has the intelligence of taking its own decisions and the ability to modify it with dynamic parameters, you certainly need prescriptive analytics for it. This relatively new field is all about providing advice. In other terms, it not only predicts but suggests a range of prescribed actions and associated outcomes.\n",
      "\n",
      "The best example for this is Google’s self-driving car which I had discussed earlier too. The data gathered by vehicles can be used to train self-driving cars. You can run algorithms on this data to bring intelligence to it. This will enable your car to take decisions like when to turn, which path to take , when to slow down or speed up.\n",
      "\n",
      "Machine learning for making predictions — If you have transactional data of a finance company and need to build a model to determine the future trend, then machine learning algorithms are the best bet. This falls under the paradigm of supervised learning. It is called supervised because you already have the data based on which you can train your machines. For example, a fraud detection model can be trained using a historical record of fraudulent purchases.\n",
      "\n",
      "Machine learning for pattern discovery — If you don’t have the parameters based on which you can make predictions, then you need to find out the hidden patterns within the dataset to be able to make meaningful predictions. This is nothing but the unsupervised model as you don’t have any predefined labels for grouping. The most common algorithm used for pattern discovery is Clustering.\n",
      "\n",
      "Let’s say you are working in a telephone company and you need to establish a network by putting towers in a region. Then, you can use the clustering technique to find those tower locations which will ensure that all the users receive optimum signal strength.\n",
      "\n",
      "Let’s see how the proportion of above-described approaches differ for Data Analysis as well as Data Science. As you can see in the image below, Data Analysis includes descriptive analytics and prediction to a certain extent. On the other hand, Data Science is more about Predictive Causal Analytics and Machine Learning.\n",
      "\n",
      "Now that you know what exactly is Data Science, let now find out the reason why it was needed in the first place.\n",
      "\n",
      "Why Data Science?\n",
      "\n",
      "Traditionally, the data that we had was mostly structured and small in size, which could be analyzed by using simple BI tools. Unlike data in the traditional systems which was mostly structured , today most of the data is unstructured or semi-structured. Let’s have a look at the data trends in the image given below which shows that by 2020, more than 80 % of the data will be unstructured.\n",
      "\n",
      "\n",
      "\n",
      "This data is generated from different sources like financial logs, text files, multimedia forms, sensors, and instruments. Simple BI tools are not capable of processing this huge volume and variety of data. This is why we need more complex and advanced analytical tools and algorithms for processing, analyzing and drawing meaningful insights out of it.\n",
      "\n",
      "This is not the only reason why Data Science has become so popular. Let’s dig deeper and see how Data Science is being used in various domains.\n",
      "\n",
      "How about if you could understand the precise requirements of your customers from the existing data like the customer’s past browsing history, purchase history, age and income. No doubt you had all this data earlier too, but now with the vast amount and variety of data, you can train models more effectively and recommend the product to your customers with more precision. Wouldn’t it be amazing as it will bring more business to your organization?\n",
      "\n",
      "Let’s take a different scenario to understand the role of Data Science in decision making . How about if your car had the intelligence to drive you home? The self-driving cars collect live data from sensors, including radars, cameras, and lasers to create a map of its surroundings. Based on this data, it takes decisions like when to speed up, when to speed down, when to overtake, where to take a turn – making use of advanced machine learning algorithms.\n",
      "\n",
      "Let’s see how Data Science can be used in predictive analytics. Let’s take weather forecasting as an example. Data from ships, aircraft, radars, satellites can be collected and analyzed to build models. These models will not only forecast the weather but also help in predicting the occurrence of any natural calamities. It will help you to take appropriate measures beforehand and save many precious lives.\n",
      "\n",
      "Let’s have a look at the below infographic to see all the domains where Data Science is creating its impression.\n",
      "\n",
      "Who is a Data Scientist?\n",
      "\n",
      "There are several definitions available on Data Scientists. In simple words, a Data Scientist is one who practices the art of Data Science. The term “Data Scientist” has been coined after considering the fact that a Data Scientist draws a lot of information from the scientific fields and applications whether it is statistics or mathematics.\n",
      "\n",
      "What does a Data Scientist do?\n",
      "\n",
      "Data scientists are those who crack complex data problems with their strong expertise in certain scientific disciplines. They work with several elements related to mathematics, statistics, computer science, etc (though they may not be an expert in all these fields). They make a lot of use of the latest technologies in finding solutions and reaching conclusions that are crucial for an organization’s growth and development. Data Scientists present the data in a much more useful form as compared to the raw data available to them from structured as well as unstructured forms.\n",
      "\n",
      "To know more about a Data Scientist you can refer to this article on Who is a Data Scientist?\n",
      "\n",
      "Moving further, lets now discuss BI. I am sure you might have heard of Business Intelligence (BI) too. Often Data Science is confused with BI. I will state some concise and clear contrasts between the two which will help you in getting a better understanding. Let’s have a look.\n",
      "\n",
      "Business Intelligence (BI) vs. Data Science\n",
      "\n",
      "Business Intelligence (BI) basically analyzes the previous data to find hindsight and insight to describe business trends. Here BI enables you to take data from external and internal sources, prepare it, run queries on it and create dashboards to answer questions like quarterly revenue analysis or business problems. BI can evaluate the impact of certain events in the near future.\n",
      "\n",
      "Data Science is a more forward-looking approach, an exploratory way with the focus on analyzing the past or current data and predicting the future outcomes with the aim of making informed decisions. It answers the open-ended questions as to “what” and “how” events occur.\n",
      "\n",
      "Let’s have a look at some contrasting features.\n",
      "\n",
      "Features Business Intelligence (BI) Data Science Data Sources Structured\n",
      "\n",
      "(Usually SQL, often Data Warehouse) Both Structured and Unstructured ( logs, cloud data, SQL, NoSQL, text) Approach Statistics and Visualization Statistics, Machine Learning, Graph Analysis, Neuro- linguistic Programming (NLP) Focus Past and Present Present and Future Tools Pentaho, Microsoft BI, QlikView, R RapidMiner, BigML, Weka, R\n",
      "\n",
      "This was all about what is Data Science, now let’s understand the lifecycle of Data Science.\n",
      "\n",
      "A common mistake made in Data Science projects is rushing into data collection and analysis, without understanding the requirements or even framing the business problem properly. Therefore, it is very important for you to follow all the phases throughout the lifecycle of Data Science to ensure the smooth functioning of the project.\n",
      "\n",
      "Lifecycle of Data Science\n",
      "\n",
      "Here is a brief overview of the main phases of the Data Science Lifecycle:\n",
      "\n",
      "\n",
      "\n",
      "Phase 1—Discovery: Before you begin the project, it is important to understand the various specifications, requirements, priorities and required budget. You must possess the ability to ask the right questions. Here, you assess if you have the required resources present in terms of people, technology, time and data to support the project. In this phase, you also need to frame the business problem and formulate initial hypotheses (IH) to test.\n",
      "\n",
      "Phase 2—Data preparation: In this phase, you require analytical sandbox in which you can perform analytics for the entire duration of the project. You need to explore, preprocess and condition data prior to modeling. Further, you will perform ETLT (extract, transform, load and transform) to get data into the sandbox. Let’s have a look at the Statistical Analysis flow below.\n",
      "\n",
      "\n",
      "\n",
      "\n",
      "\n",
      "\n",
      "\n",
      "You can use R for data cleaning, transformation, and visualization. This will help you to spot the outliers and establish a relationship between the variables. Once you have cleaned and prepared the data, it’s time to do exploratory analytics on it. Let’s see how you can achieve that.\n",
      "\n",
      "Phase 3—Model planning: Here, you will determine the methods and techniques to draw the relationships between variables. These relationships will set the base for the algorithms which you will implement in the next phase. You will apply Exploratory Data Analytics (EDA) using various statistical formulas and visualization tools.\n",
      "\n",
      "Let’s have a look at various model planning tools.\n",
      "\n",
      "R has a complete set of modeling capabilities and provides a good environment for building interpretive models . SQL Analysis services can perform in-database analytics using common data mining functions and basic predictive models. SAS/ACCESS can be used to access data from Hadoop and is used for creating repeatable and reusable model flow diagrams.\n",
      "\n",
      "Although, many tools are present in the market but R is the most commonly used tool.\n",
      "\n",
      "Now that you have got insights into the nature of your data and have decided the algorithms to be used. In the next stage, you will apply the algorithm and build up a model.\n",
      "\n",
      "Phase 4—Model building: In this phase, you will develop datasets for training and testing purposes. Here you need to consider whether your existing tools will suffice for running the models or it will need a more robust environment (like fast and parallel processing). You will analyze various learning techniques like classification, association and clustering to build the model.\n",
      "\n",
      "\n",
      "\n",
      "You can achieve model building through the following tools.\n",
      "\n",
      "Phase 5—Operationalize: In this phase, you deliver final reports, briefings, code and technical documents. In addition, sometimes a pilot project is also implemented in a real-time production environment. This will provide you a clear picture of the performance and other related constraints on a small scale before full deployment.\n",
      "\n",
      "\n",
      "\n",
      "Phase 6—Communicate results: Now it is important to evaluate if you have been able to achieve your goal that you had planned in the first phase. So, in the last phase, you identify all the key findings, communicate to the stakeholders and determine if the results of the project are a success or a failure based on the criteria developed in Phase 1.\n",
      "\n",
      "\n",
      "\n",
      "Now, I will take a case study to explain you the various phases described above.\n",
      "\n",
      "Case Study: Diabetes Prevention\n",
      "\n",
      "What if we could predict the occurrence of diabetes and take appropriate measures beforehand to prevent it?\n",
      "\n",
      "In this use case, we will predict the occurrence of diabetes making use of the entire lifecycle that we discussed earlier. Let’s go through the various steps.\n",
      "\n",
      "Step 1:\n",
      "\n",
      "First, we will collect the data based on the medical history of the patient as discussed in Phase 1. You can refer to the sample data below.\n",
      "\n",
      "As you can see, we have the various attributes as mentioned below.\n",
      "\n",
      "Attributes:\n",
      "\n",
      "npreg – Number of times pregnant glucose – Plasma glucose concentration bp – Blood pressure skin – Triceps skinfold thickness bmi – Body mass index ped – Diabetes pedigree function age – Age income – Income\n",
      "\n",
      "Step 2:\n",
      "\n",
      "Now, once we have the data, we need to clean and prepare the data for data analysis.\n",
      "\n",
      "This data has a lot of inconsistencies like missing values, blank columns, abrupt values and incorrect data format which need to be cleaned.\n",
      "\n",
      "Here, we have organized the data into a single table under different attributes – making it look more structured.\n",
      "\n",
      "Let’s have a look at the sample data below.\n",
      "\n",
      "This data has a lot of inconsistencies.\n",
      "\n",
      "In the column npreg , “one” is written in words, whereas it should be in the numeric form like 1. In column bp one of the values is 6600 which is impossible (at least for humans) as bp cannot go up to such huge value. As you can see the Income column is blank and also makes no sense in predicting diabetes. Therefore, it is redundant to have it here and should be removed from the table.\n",
      "\n",
      "So, we will clean and preprocess this data by removing the outliers, filling up the null values and normalizing the data type. If you remember, this is our second phase which is data preprocessing.\n",
      "\n",
      "Finally, we get the clean data as shown below which can be used for analysis.\n",
      "\n",
      "Step 3:\n",
      "\n",
      "Now let’s do some analysis as discussed earlier in Phase 3.\n",
      "\n",
      "First, we will load the data into the analytical sandbox and apply various statistical functions on it. For example, R has functions like describe which gives us the number of missing values and unique values. We can also use the summary function which will give us statistical information like mean, median, range, min and max values.\n",
      "\n",
      "Then, we use visualization techniques like histograms, line graphs, box plots to get a fair idea of the distribution of data.\n",
      "\n",
      "Step 4:\n",
      "\n",
      "Now, based on insights derived from the previous step, the best fit for this kind of problem is the decision tree. Let’s see how?\n",
      "\n",
      "Since, we already have the major attributes for analysis like npreg, bmi, etc., so we will use supervised learning technique to build a model here.\n",
      "\n",
      "Further, we have particularly used decision tree because it takes all attributes into consideration in one go, like the ones which have a linear relationship as well as those which have a non-linear relationship. In our case, we have a linear relationship between npreg and age, whereas the nonlinear relationship between npreg and ped.\n",
      "\n",
      "Decision tree models are also very robust as we can use the different combination of attributes to make various trees and then finally implement the one with the maximum efficiency.\n",
      "\n",
      "Let’s have a look at our decision tree.\n",
      "\n",
      "Here, the most important parameter is the level of glucose, so it is our root node. Now, the current node and its value determine the next important parameter to be taken. It goes on until we get the result in terms of pos or neg. Pos means the tendency of having diabetes is positive and neg means the tendency of having diabetes is negative.\n",
      "\n",
      "If you want to learn more about the implementation of the decision tree, refer this blog How To Create A Perfect Decision Tree\n",
      "\n",
      "Step 5:\n",
      "\n",
      "In this phase, we will run a small pilot project to check if our results are appropriate. We will also look for performance constraints if any. If the results are not accurate, then we need to replan and rebuild the model.\n",
      "\n",
      "Step 6:\n",
      "\n",
      "Once we have executed the project successfully, we will share the output for full deployment.\n",
      "\n",
      "Being a Data Scientist is easier said than done. So, let’s see what all you need to be a Data Scientist. A Data Scientist requires skills basically from three major areas as shown below.\n",
      "\n",
      "As you can see in the above image, you need to acquire various hard skills and soft skills. You need to be good at statistics and mathematics to analyze and visualize data. Needless to say, Machine Learning forms the heart of Data Science and requires you to be good at it. Also, you need to have a solid understanding of the domain you are working in to understand the business problems clearly. Your task does not end here. You should be capable of implementing various algorithms which require good coding skills. Finally, once you have made certain key decisions, it is important for you to deliver them to the stakeholders. So, good communication will definitely add brownie points to your skills.\n",
      "\n",
      "\n",
      "\n",
      "I urge you to see this Data Science video tutorial that explains what is Data Science and all that we have discussed in the blog. Go ahead, enjoy the video and tell me what you think.\n",
      "\n",
      "What Is Data Science? Data Science Course – Data Science Tutorial For Beginners | Edureka This Edureka Data Science course video will take you through the need of data science, what is data science, data science use cases for business, BI vs data science, data analytics tools, data science lifecycle along with a demo.\n",
      "\n",
      "In the end, it won’t be wrong to say that the future belongs to the Data Scientists. It is predicted that by the end of the year 2018, there will be a need of around one million Data Scientists. More and more data will provide opportunities to drive key business decisions. It is soon going to change the way we look at the world deluged with data around us. Therefore, a Data Scientist should be highly skilled and motivated to solve the most complex problems.\n",
      "\n",
      "l hope you enjoyed reading my blog and understood what is Data Science. Check out our Data Science certification training here, that comes with instructor-led live training and real-life project experience.\n"
     ]
    }
   ],
   "source": [
    "print(article1.text)"
   ]
  },
  {
   "cell_type": "code",
   "execution_count": 15,
   "metadata": {},
   "outputs": [],
   "source": [
    "url2='https://simplicable.com/new/types-of-technology'\n",
    "article2=Article(url2)"
   ]
  },
  {
   "cell_type": "code",
   "execution_count": 16,
   "metadata": {},
   "outputs": [
    {
     "name": "stderr",
     "output_type": "stream",
     "text": [
      "[nltk_data] Downloading package punkt to\n",
      "[nltk_data]     C:\\Users\\lenovo\\AppData\\Roaming\\nltk_data...\n",
      "[nltk_data]   Package punkt is already up-to-date!\n"
     ]
    }
   ],
   "source": [
    "article2.download()\n",
    "article2.parse()\n",
    "nltk.download('punkt')\n",
    "article2.nlp()"
   ]
  },
  {
   "cell_type": "code",
   "execution_count": 18,
   "metadata": {},
   "outputs": [
    {
     "data": {
      "text/plain": [
       "['John Spacey']"
      ]
     },
     "execution_count": 18,
     "metadata": {},
     "output_type": "execute_result"
    }
   ],
   "source": [
    "article2.authors"
   ]
  },
  {
   "cell_type": "code",
   "execution_count": 19,
   "metadata": {},
   "outputs": [
    {
     "name": "stdout",
     "output_type": "stream",
     "text": [
      "is the use of scientific knowledge to create tools. The following are common types of technology.\n",
      "\n",
      "broad class of technology based on machines that process data and perform calculations at high speed known as computers. Most modern technologies have some relationship with information technology.\n",
      "\n",
      "Links that allow devices to share data. Networks are connected to networks to create larger networks such as the internet.\n",
      "\n",
      "Devices that record data from their environment such as microphones, cameras and accelerometers.\n",
      "\n",
      "A term for the practice of embedding computers, sensors and networking capabilities into everyday objects such as infrastructure or a bottle of water.\n",
      "\n",
      "Transport\n",
      "\n",
      "Transport technology such as high speed trains and aircraft.\n",
      "\n",
      "Energy\n",
      "\n",
      "Energy infrastructure such as solar panels, wind turbines and grids.\n",
      "\n",
      "Agriculture\n",
      "\n",
      "Agricultural technologies such as farm robots\n",
      "\n",
      "Architecture\n",
      "\n",
      "Technologies for buildings such as elevators or smart windows\n",
      "\n",
      "Entertainment & Media\n",
      "\n",
      "Tools for consuming or producing entertainment and media.\n",
      "\n",
      "Art & Music\n",
      "\n",
      "Devices such as music synthesizers for creating things of artistic value.\n",
      "\n",
      "Appliances\n",
      "\n",
      "A general term for technologies that are useful around the house.\n",
      "\n",
      "Industrial Machines\n",
      "\n",
      "Specialized machines for industrial purposes such as manufacturing or mining.\n",
      "\n",
      "Clothing & Accessories\n",
      "\n",
      "Technologies that go into clothing and fashion accessories such as watches.\n",
      "\n",
      "Medical Technology\n",
      "\n",
      "Devices, medicines, procedures and systems designed to prevent, cure or mitigate health problems.\n",
      "\n",
      "Assistive Technology\n",
      "\n",
      "Devices that improve the capabilities of people with disabilities such as a hearing aid.\n",
      "\n",
      "Science\n",
      "\n",
      "Research tools such as a particle collider.\n",
      "\n",
      "Space\n",
      "\n",
      "Technologies for exploring or commercializing space such as spacecraft or communication satellites.\n",
      "\n",
      "A class of machines with semi-autonomous capabilities meaning that robots can handle certain tasks in real world conditions without direction.\n",
      "\n",
      "A technology that learns and self-improves.\n",
      "\n",
      "A theoretical type of technology that exhibits intelligence that exceeds the smartest humans\n"
     ]
    }
   ],
   "source": [
    "print(article2.text)"
   ]
  },
  {
   "cell_type": "code",
   "execution_count": null,
   "metadata": {},
   "outputs": [],
   "source": []
  },
  {
   "cell_type": "code",
   "execution_count": null,
   "metadata": {},
   "outputs": [],
   "source": []
  },
  {
   "cell_type": "code",
   "execution_count": null,
   "metadata": {},
   "outputs": [],
   "source": []
  },
  {
   "cell_type": "code",
   "execution_count": null,
   "metadata": {},
   "outputs": [],
   "source": []
  },
  {
   "cell_type": "code",
   "execution_count": null,
   "metadata": {},
   "outputs": [],
   "source": []
  },
  {
   "cell_type": "code",
   "execution_count": null,
   "metadata": {},
   "outputs": [],
   "source": []
  },
  {
   "cell_type": "code",
   "execution_count": null,
   "metadata": {},
   "outputs": [],
   "source": []
  },
  {
   "cell_type": "code",
   "execution_count": null,
   "metadata": {},
   "outputs": [],
   "source": []
  },
  {
   "cell_type": "code",
   "execution_count": null,
   "metadata": {},
   "outputs": [],
   "source": []
  },
  {
   "cell_type": "code",
   "execution_count": null,
   "metadata": {},
   "outputs": [],
   "source": []
  }
 ],
 "metadata": {
  "kernelspec": {
   "display_name": "Python 3",
   "language": "python",
   "name": "python3"
  },
  "language_info": {
   "codemirror_mode": {
    "name": "ipython",
    "version": 3
   },
   "file_extension": ".py",
   "mimetype": "text/x-python",
   "name": "python",
   "nbconvert_exporter": "python",
   "pygments_lexer": "ipython3",
   "version": "3.7.6"
  }
 },
 "nbformat": 4,
 "nbformat_minor": 4
}
