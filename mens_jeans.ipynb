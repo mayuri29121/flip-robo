{
 "cells": [
  {
   "cell_type": "code",
   "execution_count": 30,
   "metadata": {},
   "outputs": [
    {
     "name": "stdout",
     "output_type": "stream",
     "text": [
      "Requirement already satisfied: selenium in c:\\programdata\\anaconda3\\lib\\site-packages (3.141.0)\n",
      "Requirement already satisfied: urllib3 in c:\\programdata\\anaconda3\\lib\\site-packages (from selenium) (1.25.8)\n",
      "Note: you may need to restart the kernel to use updated packages.\n"
     ]
    }
   ],
   "source": [
    "pip install selenium"
   ]
  },
  {
   "cell_type": "code",
   "execution_count": 31,
   "metadata": {},
   "outputs": [],
   "source": [
    "from selenium import webdriver \n",
    "import os\n",
    "\n",
    "driver=webdriver.Chrome(executable_path= 'chromedriver.exe')"
   ]
  },
  {
   "cell_type": "code",
   "execution_count": null,
   "metadata": {},
   "outputs": [],
   "source": []
  },
  {
   "cell_type": "code",
   "execution_count": null,
   "metadata": {},
   "outputs": [],
   "source": []
  },
  {
   "cell_type": "code",
   "execution_count": null,
   "metadata": {},
   "outputs": [],
   "source": []
  },
  {
   "cell_type": "code",
   "execution_count": 32,
   "metadata": {},
   "outputs": [],
   "source": [
    "my_page=driver.get(\"https://www.flipkart.com/search?q=men%20jeans&otracker=search&otracker1=search&marketplace=FLIPKART&as-show=on&as=off\")"
   ]
  },
  {
   "cell_type": "code",
   "execution_count": 33,
   "metadata": {},
   "outputs": [],
   "source": [
    "def make_directory(dirname):\n",
    "    current_path=os.getcwd()\n",
    "    path=os.path.join(current_path,dirname)\n",
    "    if not os.path.exists(path):\n",
    "        os.makedirs(path)"
   ]
  },
  {
   "cell_type": "code",
   "execution_count": 34,
   "metadata": {},
   "outputs": [],
   "source": [
    "make_directory('mens_jeans')"
   ]
  },
  {
   "cell_type": "code",
   "execution_count": null,
   "metadata": {},
   "outputs": [],
   "source": []
  },
  {
   "cell_type": "code",
   "execution_count": null,
   "metadata": {},
   "outputs": [],
   "source": []
  },
  {
   "cell_type": "code",
   "execution_count": 35,
   "metadata": {},
   "outputs": [
    {
     "name": "stdout",
     "output_type": "stream",
     "text": [
      "[<selenium.webdriver.remote.webelement.WebElement (session=\"76b1f3bc83920568c1000aba64cb2d7e\", element=\"58644b61-317e-412b-8a87-5ec10ab9dc46\")>, <selenium.webdriver.remote.webelement.WebElement (session=\"76b1f3bc83920568c1000aba64cb2d7e\", element=\"97507388-2b1f-4478-b8a2-e26c607702c5\")>, <selenium.webdriver.remote.webelement.WebElement (session=\"76b1f3bc83920568c1000aba64cb2d7e\", element=\"4065a3f8-a7c3-4a28-88bf-409ff1ec452c\")>, <selenium.webdriver.remote.webelement.WebElement (session=\"76b1f3bc83920568c1000aba64cb2d7e\", element=\"e9e07cae-9e86-4a51-901a-d4362b9218b4\")>, <selenium.webdriver.remote.webelement.WebElement (session=\"76b1f3bc83920568c1000aba64cb2d7e\", element=\"58750fb2-2483-4dd4-ae4b-750d54634c0a\")>, <selenium.webdriver.remote.webelement.WebElement (session=\"76b1f3bc83920568c1000aba64cb2d7e\", element=\"9e94dc3f-807e-4a9d-9893-a8c360e976dc\")>, <selenium.webdriver.remote.webelement.WebElement (session=\"76b1f3bc83920568c1000aba64cb2d7e\", element=\"d21d2301-dcf8-4ee8-b367-f85860b8c8a1\")>, <selenium.webdriver.remote.webelement.WebElement (session=\"76b1f3bc83920568c1000aba64cb2d7e\", element=\"eff0dfd8-3070-4588-be4a-0346662b9156\")>, <selenium.webdriver.remote.webelement.WebElement (session=\"76b1f3bc83920568c1000aba64cb2d7e\", element=\"d01dd7fd-6d53-446a-a71e-b63962a25d7a\")>, <selenium.webdriver.remote.webelement.WebElement (session=\"76b1f3bc83920568c1000aba64cb2d7e\", element=\"0d2e5659-4286-4b33-8a78-418be3cf9942\")>, <selenium.webdriver.remote.webelement.WebElement (session=\"76b1f3bc83920568c1000aba64cb2d7e\", element=\"7eff89ea-ae65-4ac0-a254-e495492c535d\")>, <selenium.webdriver.remote.webelement.WebElement (session=\"76b1f3bc83920568c1000aba64cb2d7e\", element=\"37e8636d-fc68-4200-aeac-452ca94db3cd\")>, <selenium.webdriver.remote.webelement.WebElement (session=\"76b1f3bc83920568c1000aba64cb2d7e\", element=\"14e59d0a-5bd8-4663-b7f3-47480ec069a7\")>, <selenium.webdriver.remote.webelement.WebElement (session=\"76b1f3bc83920568c1000aba64cb2d7e\", element=\"3fa2b23a-a602-437b-9015-3a0137a7ce95\")>, <selenium.webdriver.remote.webelement.WebElement (session=\"76b1f3bc83920568c1000aba64cb2d7e\", element=\"2745617b-287a-4335-9332-f800d2ab970e\")>, <selenium.webdriver.remote.webelement.WebElement (session=\"76b1f3bc83920568c1000aba64cb2d7e\", element=\"87ddf79f-9df3-4405-82f4-f949d01a2dbb\")>, <selenium.webdriver.remote.webelement.WebElement (session=\"76b1f3bc83920568c1000aba64cb2d7e\", element=\"c6011e21-e3de-4296-9d0c-b3a3b5c9bce6\")>, <selenium.webdriver.remote.webelement.WebElement (session=\"76b1f3bc83920568c1000aba64cb2d7e\", element=\"1997b1cb-2574-4a2e-9bcf-c1e41d5622c9\")>, <selenium.webdriver.remote.webelement.WebElement (session=\"76b1f3bc83920568c1000aba64cb2d7e\", element=\"82e47365-f48b-47c2-990f-fb66d4eae88e\")>, <selenium.webdriver.remote.webelement.WebElement (session=\"76b1f3bc83920568c1000aba64cb2d7e\", element=\"4d867813-2de7-4804-b8a0-c8b9fd147afd\")>, <selenium.webdriver.remote.webelement.WebElement (session=\"76b1f3bc83920568c1000aba64cb2d7e\", element=\"093484ed-3365-468c-9464-4bbd89fdc7f3\")>, <selenium.webdriver.remote.webelement.WebElement (session=\"76b1f3bc83920568c1000aba64cb2d7e\", element=\"9a37bcd7-e072-4e7e-9337-72f664a929c5\")>, <selenium.webdriver.remote.webelement.WebElement (session=\"76b1f3bc83920568c1000aba64cb2d7e\", element=\"e04c8672-da01-4ebc-890e-ee664385d681\")>, <selenium.webdriver.remote.webelement.WebElement (session=\"76b1f3bc83920568c1000aba64cb2d7e\", element=\"b41f508a-bdeb-462e-a690-7870eebda401\")>, <selenium.webdriver.remote.webelement.WebElement (session=\"76b1f3bc83920568c1000aba64cb2d7e\", element=\"19d0bf36-507c-4174-b82d-66733ef9d383\")>, <selenium.webdriver.remote.webelement.WebElement (session=\"76b1f3bc83920568c1000aba64cb2d7e\", element=\"ef280354-9928-4667-8379-1e71759944fe\")>, <selenium.webdriver.remote.webelement.WebElement (session=\"76b1f3bc83920568c1000aba64cb2d7e\", element=\"d002e7bf-2f42-4d51-87bb-67ad13a6f485\")>, <selenium.webdriver.remote.webelement.WebElement (session=\"76b1f3bc83920568c1000aba64cb2d7e\", element=\"df2bfc05-e09c-4524-ab5e-74656802184c\")>, <selenium.webdriver.remote.webelement.WebElement (session=\"76b1f3bc83920568c1000aba64cb2d7e\", element=\"e543c420-2419-4919-bfc5-9f522f6bb73c\")>, <selenium.webdriver.remote.webelement.WebElement (session=\"76b1f3bc83920568c1000aba64cb2d7e\", element=\"ef2a7e46-6e99-4bb3-b1a0-c5c684bc199d\")>, <selenium.webdriver.remote.webelement.WebElement (session=\"76b1f3bc83920568c1000aba64cb2d7e\", element=\"884b0ba2-64a4-4bb1-b2bb-26fe2ce2f426\")>, <selenium.webdriver.remote.webelement.WebElement (session=\"76b1f3bc83920568c1000aba64cb2d7e\", element=\"e2c57b34-1202-4727-8cce-4ad980d16916\")>, <selenium.webdriver.remote.webelement.WebElement (session=\"76b1f3bc83920568c1000aba64cb2d7e\", element=\"ef61ac04-6f1e-493c-9aea-f241d6a1de5f\")>, <selenium.webdriver.remote.webelement.WebElement (session=\"76b1f3bc83920568c1000aba64cb2d7e\", element=\"81fda07f-ec5a-404b-9ab9-0b71b7f346be\")>, <selenium.webdriver.remote.webelement.WebElement (session=\"76b1f3bc83920568c1000aba64cb2d7e\", element=\"de993b25-f7eb-4ec0-a11d-b15bee2afa31\")>, <selenium.webdriver.remote.webelement.WebElement (session=\"76b1f3bc83920568c1000aba64cb2d7e\", element=\"bd4b9c7b-3cbf-46c8-872c-a6dfb0f21b22\")>, <selenium.webdriver.remote.webelement.WebElement (session=\"76b1f3bc83920568c1000aba64cb2d7e\", element=\"b873adf5-cc1a-44a5-8605-2cb20d055f5a\")>, <selenium.webdriver.remote.webelement.WebElement (session=\"76b1f3bc83920568c1000aba64cb2d7e\", element=\"a861f190-3dbb-4f3a-b9b0-ebd6ef311243\")>, <selenium.webdriver.remote.webelement.WebElement (session=\"76b1f3bc83920568c1000aba64cb2d7e\", element=\"1ab8f258-fb2d-4364-b260-e390bc223184\")>, <selenium.webdriver.remote.webelement.WebElement (session=\"76b1f3bc83920568c1000aba64cb2d7e\", element=\"04c8ca5f-86af-4068-99c4-52533afb71e0\")>]\n"
     ]
    }
   ],
   "source": [
    "images=driver.find_elements_by_xpath(\"//img[@class='_3togXc']\")\n",
    "print(images)"
   ]
  },
  {
   "cell_type": "code",
   "execution_count": 36,
   "metadata": {},
   "outputs": [],
   "source": [
    "MAX_PAGE_NUM = 5\n",
    "MAX_PAGE_DIG = 3"
   ]
  },
  {
   "cell_type": "code",
   "execution_count": null,
   "metadata": {},
   "outputs": [],
   "source": []
  },
  {
   "cell_type": "code",
   "execution_count": null,
   "metadata": {},
   "outputs": [],
   "source": []
  },
  {
   "cell_type": "code",
   "execution_count": null,
   "metadata": {},
   "outputs": [],
   "source": []
  },
  {
   "cell_type": "code",
   "execution_count": null,
   "metadata": {},
   "outputs": [],
   "source": []
  },
  {
   "cell_type": "code",
   "execution_count": null,
   "metadata": {},
   "outputs": [],
   "source": []
  },
  {
   "cell_type": "code",
   "execution_count": null,
   "metadata": {},
   "outputs": [],
   "source": []
  },
  {
   "cell_type": "code",
   "execution_count": 37,
   "metadata": {},
   "outputs": [
    {
     "name": "stdout",
     "output_type": "stream",
     "text": [
      "https://rukminim1.flixcart.com/image/330/396/k70spzk0/jean/g/s/g/30-hljn000717-highlander-original-imafpchy8hhzjexs.jpeg?q=50\n",
      "https://rukminim1.flixcart.com/image/330/396/k12go7k0/jean/7/j/n/32-fmjno0774-flying-machine-original-imafkq6zkxh56g87.jpeg?q=50\n",
      "https://rukminim1.flixcart.com/image/330/396/jjylw280/jean/p/a/s/34-eps-black-03-urbano-fashion-original-imaf7f7wyy7sv6zk.jpeg?q=50\n",
      "https://rukminim1.flixcart.com/image/330/396/jh6l2fk0/jean/4/a/z/30-lj183a-lzard-original-imaf5883mb8vchhb.jpeg?q=50\n",
      "https://rukminim1.flixcart.com/image/330/396/k2urhjk0/jean/j/2/v/32-w38457w22smu-wrangler-original-imafhv9fgk8y7znm.jpeg?q=50\n",
      "https://rukminim1.flixcart.com/image/330/396/k0zlsi80/jean/w/r/y/28-12171527-jack-jones-original-imafkz6cv69mthaz.jpeg?q=50\n",
      "https://rukminim1.flixcart.com/image/330/396/k687wy80/jean/s/t/f/32-18298-0873-levi-s-original-imafzqfzsxm9mjhk.jpeg?q=50\n",
      "https://rukminim1.flixcart.com/image/330/396/k1v1h8w0/jean/n/g/6/32-w37013w22smu-wrangler-original-imafhc9feyzymcuz.jpeg?q=50\n",
      "https://rukminim1.flixcart.com/image/330/396/k55n0y80/jean/q/2/z/30-pudnuskps23065-peter-england-university-original-imafnwa62veghh7n.jpeg?q=50\n",
      "https://rukminim1.flixcart.com/image/330/396/k6l2vm80/jean/y/p/r/32-w38503w22smu-wrangler-original-imafngxjdvytrhfy.jpeg?q=50\n",
      "https://rukminim1.flixcart.com/image/330/396/jhavdzk0/jean/j/x/p/30-hpsjogger-lgrey-urbano-fashion-original-imaf5bzbhhvwu9by.jpeg?q=50\n",
      "https://rukminim1.flixcart.com/image/330/396/jean/n/u/3/bmw-darklevis-ben-martin-32-original-imaedpc4zcgjadsv.jpeg?q=50\n",
      "https://rukminim1.flixcart.com/image/330/396/jsw3yq80/jean/j/c/c/32-mss19ajn020-metronaut-original-imafede5zhvgchsk.jpeg?q=50\n",
      "https://rukminim1.flixcart.com/image/330/396/k70spzk0/jean/y/p/z/30-hljn000720-highlander-original-imafpchxhtajf37j.jpeg?q=50\n",
      "https://rukminim1.flixcart.com/image/330/396/jqmnv680/jean/h/u/p/36-lj3127-lzard-original-imafckugeffzszqx.jpeg?q=50\n",
      "https://rukminim1.flixcart.com/image/330/396/k4ss2a80/jean/e/w/d/32-w38507w22smu-wrangler-original-imafngzg3d6pbxsc.jpeg?q=50\n",
      "https://rukminim1.flixcart.com/image/330/396/k0sgl8w0/jean/6/t/c/32-udjn0313-u-s-polo-assn-original-imafkgyvvfj7abrt.jpeg?q=50\n",
      "https://rukminim1.flixcart.com/image/330/396/j6gs6fk0/jean/n/h/z/40-jog-hps-black-urbano-fashion-original-imaewxe7fgyx7u28.jpeg?q=50\n",
      "https://rukminim1.flixcart.com/image/330/396/k5msb680/jean/6/t/b/32-earo-dev-76-spykar-original-imafz8qra9m5ynwe.jpeg?q=50\n",
      "https://rukminim1.flixcart.com/image/330/396/k6s82vk0/jean/f/y/z/32-fmjno1048-flying-machine-original-imafzydyxhyvbygg.jpeg?q=50\n",
      "https://rukminim1.flixcart.com/image/330/396/k0flmkw0/jean/y/h/j/32-l36144248smu-lee-original-imafk75yhbtkervz.jpeg?q=50\n",
      "https://rukminim1.flixcart.com/image/330/396/k5pn6vk0/jean/m/2/4/32-kjb-1409-dnft-gry-killer-original-imafz9xjgkhguknc.jpeg?q=50\n",
      "https://rukminim1.flixcart.com/image/330/396/k12go7k0/jean/j/q/e/32-maw19jn150-metronaut-original-imafkq3wvafca6m9.jpeg?q=50\n",
      "https://rukminim1.flixcart.com/image/330/396/k0zlsi80/jean/e/v/p/32-fmjno0895-flying-machine-original-imafkz6gkg7gwx7q.jpeg?q=50\n",
      "https://rukminim1.flixcart.com/image/330/396/jxuq07k0/jean/e/r/7/32-w36991w22smu-wrangler-original-imafg7sgfqxhrmbg.jpeg?q=50\n",
      "https://rukminim1.flixcart.com/image/330/396/k12go7k0/jean/u/b/r/32-efskn-dev-188-spykar-original-imafkqaw3ucbgtqk.jpeg?q=50\n",
      "https://rukminim1.flixcart.com/image/330/396/k7m8brk0/jean/m/g/w/32-kjb-1414-dnft-ice-killer-original-imafpt7mrmy8axgu.jpeg?q=50\n",
      "https://rukminim1.flixcart.com/image/330/396/jlgwmfk0/jean/r/j/w/32-59224-0021-denizen-original-imaf8ezyx9urfyx6.jpeg?q=50\n",
      "https://rukminim1.flixcart.com/image/330/396/k1tm1e80/jean/n/g/g/32-maw19jn192-metronaut-original-imafh8yygptxhsvz.jpeg?q=50\n",
      "https://rukminim1.flixcart.com/image/330/396/k66sh3k0/jean/n/z/s/34-fmjno0961-flying-machine-original-imafzhfhgzexddkg.jpeg?q=50\n",
      "https://rukminim1.flixcart.com/image/330/396/k7ksvww0/jean/h/g/n/32-fmjno1074-flying-machine-original-imafpz56fukwy9hy.jpeg?q=50\n",
      "https://rukminim1.flixcart.com/image/330/396/k5vcya80/jean/w/s/g/36-pm202740g074-pepe-jeans-original-imafzd2h6egpwssw.jpeg?q=50\n",
      "https://rukminim1.flixcart.com/image/330/396/k3q76a80/jean/z/h/k/32-18298-0627-levi-s-original-imafmrgsyhryyv6a.jpeg?q=50\n",
      "https://rukminim1.flixcart.com/image/330/396/k70spzk0/jean/h/r/w/30-hljn000651-highlander-original-imafpchx77ur45yt.jpeg?q=50\n",
      "https://rukminim1.flixcart.com/image/330/396/k6pd7680/jean/y/h/t/32-pm202740q074-pepe-jeans-original-imafp3mchpvfvrzr.jpeg?q=50\n",
      "https://rukminim1.flixcart.com/image/330/396/k12go7k0/jean/d/z/a/32-efskn-dev-30-spykar-original-imafkqawgdxxzhfa.jpeg?q=50\n",
      "https://rukminim1.flixcart.com/image/330/396/k7usyvk0/jean/q/v/r/32-fmjno1097-flying-machine-original-imafpzjxxzw2y5zf.jpeg?q=50\n",
      "https://rukminim1.flixcart.com/image/330/396/k7ksvww0/jean/f/h/v/32-kjb-1240-dnft-bl-killer-original-imafpsc49zsubvw6.jpeg?q=50\n",
      "https://rukminim1.flixcart.com/image/330/396/k7nnrm80/jean/r/a/w/32-kjb-1413-dnft-bl-killer-original-imafptcnabhrxkpe.jpeg?q=50\n",
      "https://rukminim1.flixcart.com/image/330/396/k66sh3k0/jean/z/5/v/36-fmjno0958-flying-machine-original-imafzhfh3kavnvpp.jpeg?q=50\n"
     ]
    }
   ],
   "source": [
    "urls=[]\n",
    "for image in images:\n",
    "    source =image.get_attribute('src')\n",
    "    urls.append(source)\n",
    "    print(source)"
   ]
  },
  {
   "cell_type": "code",
   "execution_count": null,
   "metadata": {},
   "outputs": [],
   "source": []
  },
  {
   "cell_type": "code",
   "execution_count": 38,
   "metadata": {},
   "outputs": [
    {
     "data": {
      "text/plain": [
       "40"
      ]
     },
     "execution_count": 38,
     "metadata": {},
     "output_type": "execute_result"
    }
   ],
   "source": [
    "len(urls)"
   ]
  },
  {
   "cell_type": "code",
   "execution_count": null,
   "metadata": {},
   "outputs": [],
   "source": []
  },
  {
   "cell_type": "code",
   "execution_count": null,
   "metadata": {},
   "outputs": [],
   "source": []
  },
  {
   "cell_type": "code",
   "execution_count": 39,
   "metadata": {},
   "outputs": [],
   "source": [
    "import shutil\n",
    "import requests"
   ]
  },
  {
   "cell_type": "code",
   "execution_count": null,
   "metadata": {},
   "outputs": [],
   "source": []
  },
  {
   "cell_type": "code",
   "execution_count": null,
   "metadata": {},
   "outputs": [],
   "source": []
  },
  {
   "cell_type": "code",
   "execution_count": null,
   "metadata": {},
   "outputs": [],
   "source": []
  },
  {
   "cell_type": "code",
   "execution_count": 40,
   "metadata": {},
   "outputs": [
    {
     "name": "stdout",
     "output_type": "stream",
     "text": [
      "Downloading 1 of 40 images\n",
      "Downloading 2 of 40 images\n",
      "Downloading 3 of 40 images\n",
      "Downloading 4 of 40 images\n",
      "Downloading 5 of 40 images\n",
      "Downloading 6 of 40 images\n",
      "Downloading 7 of 40 images\n",
      "Downloading 8 of 40 images\n",
      "Downloading 9 of 40 images\n",
      "Downloading 10 of 40 images\n",
      "Downloading 11 of 40 images\n",
      "Downloading 12 of 40 images\n",
      "Downloading 13 of 40 images\n",
      "Downloading 14 of 40 images\n",
      "Downloading 15 of 40 images\n",
      "Downloading 16 of 40 images\n",
      "Downloading 17 of 40 images\n",
      "Downloading 18 of 40 images\n",
      "Downloading 19 of 40 images\n",
      "Downloading 20 of 40 images\n",
      "Downloading 21 of 40 images\n",
      "Downloading 22 of 40 images\n",
      "Downloading 23 of 40 images\n",
      "Downloading 24 of 40 images\n",
      "Downloading 25 of 40 images\n",
      "Downloading 26 of 40 images\n",
      "Downloading 27 of 40 images\n",
      "Downloading 28 of 40 images\n",
      "Downloading 29 of 40 images\n",
      "Downloading 30 of 40 images\n",
      "Downloading 31 of 40 images\n",
      "Downloading 32 of 40 images\n",
      "Downloading 33 of 40 images\n",
      "Downloading 34 of 40 images\n",
      "Downloading 35 of 40 images\n",
      "Downloading 36 of 40 images\n",
      "Downloading 37 of 40 images\n",
      "Downloading 38 of 40 images\n",
      "Downloading 39 of 40 images\n",
      "Downloading 40 of 40 images\n"
     ]
    }
   ],
   "source": [
    "\n",
    "    for index, link in enumerate(urls):\n",
    "        print ('Downloading {0} of {1} images'.format(index+1 ,len(urls)))\n",
    "        response = requests.get(link)\n",
    "        with open('mens_jeans/img_{0}.jpeg'.format(index),\"wb\")as file:\n",
    "            file.write(response.content)"
   ]
  },
  {
   "cell_type": "code",
   "execution_count": 41,
   "metadata": {},
   "outputs": [],
   "source": []
  },
  {
   "cell_type": "code",
   "execution_count": null,
   "metadata": {},
   "outputs": [],
   "source": []
  },
  {
   "cell_type": "code",
   "execution_count": null,
   "metadata": {},
   "outputs": [],
   "source": []
  },
  {
   "cell_type": "code",
   "execution_count": null,
   "metadata": {},
   "outputs": [],
   "source": []
  },
  {
   "cell_type": "code",
   "execution_count": 42,
   "metadata": {},
   "outputs": [],
   "source": [
    "my_page1=driver.get(\"https://www.flipkart.com/search?q=men+jeans&otracker=search&otracker1=search&marketplace=FLIPKART&as-show=on&as=off&page=2\")"
   ]
  },
  {
   "cell_type": "code",
   "execution_count": 43,
   "metadata": {},
   "outputs": [
    {
     "name": "stdout",
     "output_type": "stream",
     "text": [
      "[<selenium.webdriver.remote.webelement.WebElement (session=\"76b1f3bc83920568c1000aba64cb2d7e\", element=\"3936c503-afd9-4cf5-a0c9-621ff10160ac\")>, <selenium.webdriver.remote.webelement.WebElement (session=\"76b1f3bc83920568c1000aba64cb2d7e\", element=\"1e3f8107-9560-4f3a-9dba-c34701c29e92\")>, <selenium.webdriver.remote.webelement.WebElement (session=\"76b1f3bc83920568c1000aba64cb2d7e\", element=\"749d398d-fcc6-4fbb-94f1-e93a0dde1e2a\")>, <selenium.webdriver.remote.webelement.WebElement (session=\"76b1f3bc83920568c1000aba64cb2d7e\", element=\"7d827160-67ec-4de5-bc27-efe3483cd166\")>, <selenium.webdriver.remote.webelement.WebElement (session=\"76b1f3bc83920568c1000aba64cb2d7e\", element=\"a77d38be-075d-4e7c-9306-ee0c8b47245b\")>, <selenium.webdriver.remote.webelement.WebElement (session=\"76b1f3bc83920568c1000aba64cb2d7e\", element=\"67fe660b-e2ac-4e11-88f6-1af14e37ba6c\")>, <selenium.webdriver.remote.webelement.WebElement (session=\"76b1f3bc83920568c1000aba64cb2d7e\", element=\"f179769c-c878-4dcf-aa77-1e8a38598d79\")>, <selenium.webdriver.remote.webelement.WebElement (session=\"76b1f3bc83920568c1000aba64cb2d7e\", element=\"c71602fc-7f62-40a5-be34-6891932be34a\")>, <selenium.webdriver.remote.webelement.WebElement (session=\"76b1f3bc83920568c1000aba64cb2d7e\", element=\"3915d89f-699e-4977-831a-22b6dc2ccac6\")>, <selenium.webdriver.remote.webelement.WebElement (session=\"76b1f3bc83920568c1000aba64cb2d7e\", element=\"da3ae482-86c4-42dc-9fa0-d86a098a6dce\")>, <selenium.webdriver.remote.webelement.WebElement (session=\"76b1f3bc83920568c1000aba64cb2d7e\", element=\"ddf5f31e-d428-408f-806c-bf0464d2b3a2\")>, <selenium.webdriver.remote.webelement.WebElement (session=\"76b1f3bc83920568c1000aba64cb2d7e\", element=\"66f0b403-bf62-4de7-8a93-4cc63e1351bb\")>, <selenium.webdriver.remote.webelement.WebElement (session=\"76b1f3bc83920568c1000aba64cb2d7e\", element=\"1808e3f2-6764-4e9e-890b-ee202f9f5bea\")>, <selenium.webdriver.remote.webelement.WebElement (session=\"76b1f3bc83920568c1000aba64cb2d7e\", element=\"62b44912-21fa-420b-9045-ed2ec5a93c78\")>, <selenium.webdriver.remote.webelement.WebElement (session=\"76b1f3bc83920568c1000aba64cb2d7e\", element=\"0c9c9ddf-21b3-4de1-aab3-6ba9c16ea683\")>, <selenium.webdriver.remote.webelement.WebElement (session=\"76b1f3bc83920568c1000aba64cb2d7e\", element=\"9daa4349-e835-4ef0-863d-d3f9640cc265\")>, <selenium.webdriver.remote.webelement.WebElement (session=\"76b1f3bc83920568c1000aba64cb2d7e\", element=\"f67f1b47-10c5-4ec6-a750-a04a4eca2217\")>, <selenium.webdriver.remote.webelement.WebElement (session=\"76b1f3bc83920568c1000aba64cb2d7e\", element=\"880d21e3-a458-4306-a9a1-22f72b2d83fb\")>, <selenium.webdriver.remote.webelement.WebElement (session=\"76b1f3bc83920568c1000aba64cb2d7e\", element=\"91077f09-ff24-45be-a001-7b10edce5090\")>, <selenium.webdriver.remote.webelement.WebElement (session=\"76b1f3bc83920568c1000aba64cb2d7e\", element=\"8c32f144-7f00-4fef-82b8-8b5234a362ee\")>, <selenium.webdriver.remote.webelement.WebElement (session=\"76b1f3bc83920568c1000aba64cb2d7e\", element=\"e4eef35f-6a28-4986-bccf-e925813c4aee\")>, <selenium.webdriver.remote.webelement.WebElement (session=\"76b1f3bc83920568c1000aba64cb2d7e\", element=\"d78cf25d-5429-4ac7-a18c-718deb75c2c5\")>, <selenium.webdriver.remote.webelement.WebElement (session=\"76b1f3bc83920568c1000aba64cb2d7e\", element=\"1d91f04b-1032-4223-be54-4b1e834ed622\")>, <selenium.webdriver.remote.webelement.WebElement (session=\"76b1f3bc83920568c1000aba64cb2d7e\", element=\"7fd65741-e5d3-42a8-9484-929200cded34\")>, <selenium.webdriver.remote.webelement.WebElement (session=\"76b1f3bc83920568c1000aba64cb2d7e\", element=\"c45e1e0c-a128-4827-aafc-dd830e9fe140\")>, <selenium.webdriver.remote.webelement.WebElement (session=\"76b1f3bc83920568c1000aba64cb2d7e\", element=\"306a5274-9ddd-427d-80db-a30089e518b6\")>, <selenium.webdriver.remote.webelement.WebElement (session=\"76b1f3bc83920568c1000aba64cb2d7e\", element=\"36e6596e-49c7-477b-a5e9-104ddb788094\")>, <selenium.webdriver.remote.webelement.WebElement (session=\"76b1f3bc83920568c1000aba64cb2d7e\", element=\"88f5603b-1342-4b33-aa19-fd2b60c979ea\")>, <selenium.webdriver.remote.webelement.WebElement (session=\"76b1f3bc83920568c1000aba64cb2d7e\", element=\"ec0771d2-8b65-41eb-b494-002750959409\")>, <selenium.webdriver.remote.webelement.WebElement (session=\"76b1f3bc83920568c1000aba64cb2d7e\", element=\"e41a9a72-9709-46d8-94fa-81935d4ef8ea\")>, <selenium.webdriver.remote.webelement.WebElement (session=\"76b1f3bc83920568c1000aba64cb2d7e\", element=\"a8a96c84-66e8-4cbb-a4d5-8357f755fa32\")>, <selenium.webdriver.remote.webelement.WebElement (session=\"76b1f3bc83920568c1000aba64cb2d7e\", element=\"39c2c34e-93ed-46e0-b5f8-cefff9cd8a24\")>, <selenium.webdriver.remote.webelement.WebElement (session=\"76b1f3bc83920568c1000aba64cb2d7e\", element=\"a9fee2c5-3673-4d88-9f67-10a98d5fd809\")>, <selenium.webdriver.remote.webelement.WebElement (session=\"76b1f3bc83920568c1000aba64cb2d7e\", element=\"7a9a5872-c4b0-47a3-a647-4769c48c07f8\")>, <selenium.webdriver.remote.webelement.WebElement (session=\"76b1f3bc83920568c1000aba64cb2d7e\", element=\"608b82a9-b3ed-454c-b301-9356d2554df1\")>, <selenium.webdriver.remote.webelement.WebElement (session=\"76b1f3bc83920568c1000aba64cb2d7e\", element=\"05b290a1-49b9-463c-abdb-425f6e32ff09\")>, <selenium.webdriver.remote.webelement.WebElement (session=\"76b1f3bc83920568c1000aba64cb2d7e\", element=\"c13c1db7-6c89-452f-833c-6fb7bd31e117\")>, <selenium.webdriver.remote.webelement.WebElement (session=\"76b1f3bc83920568c1000aba64cb2d7e\", element=\"12eeeb63-432a-469a-9f9c-48a0720b6b31\")>, <selenium.webdriver.remote.webelement.WebElement (session=\"76b1f3bc83920568c1000aba64cb2d7e\", element=\"bc02a50c-d5c7-4d27-914d-2758a31fc219\")>, <selenium.webdriver.remote.webelement.WebElement (session=\"76b1f3bc83920568c1000aba64cb2d7e\", element=\"86da47d8-5f8d-49a5-a6a7-7e67f1252ddb\")>]\n"
     ]
    }
   ],
   "source": [
    "images1=driver.find_elements_by_xpath(\"//img[@class='_3togXc']\")\n",
    "print(images1)"
   ]
  },
  {
   "cell_type": "code",
   "execution_count": 44,
   "metadata": {},
   "outputs": [
    {
     "name": "stdout",
     "output_type": "stream",
     "text": [
      "https://rukminim1.flixcart.com/image/330/396/k0zlsi80/jean/6/g/2/32-maw19jn195-metronaut-original-imafkmfwne6jpgf9.jpeg?q=50\n",
      "https://rukminim1.flixcart.com/image/330/396/k2urhjk0/jean/n/e/w/32-w38456w22smu-wrangler-original-imafhv9f7ezf8wpy.jpeg?q=50\n",
      "https://rukminim1.flixcart.com/image/330/396/k4x2du80/jean/d/8/2/32-bss20d006-billion-original-imafnpvdgnrshsfm.jpeg?q=50\n",
      "https://rukminim1.flixcart.com/image/330/396/k70spzk0/jean/g/s/g/30-hljn000717-highlander-original-imafpchy8hhzjexs.jpeg?q=50\n",
      "https://rukminim1.flixcart.com/image/330/396/k7ksvww0/jean/y/m/x/32-fmjno1151-flying-machine-original-imafpnxf6bzyysyf.jpeg?q=50\n",
      "https://rukminim1.flixcart.com/image/330/396/k7usyvk0/jean/s/h/c/32-fmjno1110-flying-machine-original-imafpzdsn6szypjd.jpeg?q=50\n",
      "https://rukminim1.flixcart.com/image/330/396/k7xnukw0/jean/q/p/s/32-kjb-1248-slnkft-bl-killer-original-imafq2fygff8dtaz.jpeg?q=50\n",
      "https://rukminim1.flixcart.com/image/330/396/kc9eufk0/jean/q/1/2/40-w31941w2298b-wrangler-original-imaftf7wbpus8ab7.jpeg?q=50\n",
      "https://rukminim1.flixcart.com/image/330/396/k0plpjk0/jean/2/g/x/32-81629-0000-denizen-original-imafketdkjerdypq.jpeg?q=50\n",
      "https://rukminim1.flixcart.com/image/330/396/k12go7k0/jean/7/j/n/32-fmjno0774-flying-machine-original-imafkq6zkxh56g87.jpeg?q=50\n",
      "https://rukminim1.flixcart.com/image/330/396/j7rxpjk0/jean/g/h/p/30-eps-grey-urbano-fashion-original-imaexsz3tufyntgg.jpeg?q=50\n",
      "https://rukminim1.flixcart.com/image/330/396/k0plpjk0/jean/r/g/f/32-44741-0190-denizen-original-imafkdxerxjy7txq.jpeg?q=50\n",
      "https://rukminim1.flixcart.com/image/330/396/k55n0y80/jean/z/d/m/36-pjdnjskp529318-peter-england-original-imafhbb3hh6xqyus.jpeg?q=50\n",
      "https://rukminim1.flixcart.com/image/330/396/k70spzk0/jean/y/p/z/30-hljn000720-highlander-original-imafpchxhtajf37j.jpeg?q=50\n",
      "https://rukminim1.flixcart.com/image/330/396/k0zlsi80/jean/w/k/v/32-maw19jn103-metronaut-original-imafkmgryaqrmkng.jpeg?q=50\n",
      "https://rukminim1.flixcart.com/image/330/396/k0zlsi80/jean/5/r/y/32-maw19jn140-metronaut-original-imafkmgsnzbhrqpw.jpeg?q=50\n",
      "https://rukminim1.flixcart.com/image/330/396/k1s6ljk0/jean/c/p/t/32-l36192248smu-lee-original-imafh9cpzntzs4sz.jpeg?q=50\n",
      "https://rukminim1.flixcart.com/image/330/396/k6l2vm80/jean/7/c/j/32-w38500w22smu-wrangler-original-imafpygguhkaakhe.jpeg?q=50\n",
      "https://rukminim1.flixcart.com/image/330/396/k1118cw0/jean/5/e/t/32-maw19jn152-metronaut-original-imafkmufykbzma24.jpeg?q=50\n",
      "https://rukminim1.flixcart.com/image/330/396/k6s82vk0/jean/f/y/z/32-fmjno1048-flying-machine-original-imafzydyxhyvbygg.jpeg?q=50\n",
      "https://rukminim1.flixcart.com/image/330/396/jynat8w0/jean/f/7/6/32-mss19jn037b-metronaut-original-imafgmhn6hhnqnue.jpeg?q=50\n",
      "https://rukminim1.flixcart.com/image/330/396/k0e66q80/jean/q/w/v/32-l36161248smu-lee-original-imafk7y5rfmhpgu2.jpeg?q=50\n",
      "https://rukminim1.flixcart.com/image/330/396/k6l2vm80/jean/a/a/z/32-kjb-1179-slnkft-indgbl-killer-original-imafngv6fznh2zkc.jpeg?q=50\n",
      "https://rukminim1.flixcart.com/image/330/396/k0zlsi80/jean/e/v/p/32-fmjno0895-flying-machine-original-imafkz6gkg7gwx7q.jpeg?q=50\n",
      "https://rukminim1.flixcart.com/image/330/396/kb89ea80/jean/i/s/7/40-kjb-1249-dnft-blh-killer-original-imafsmg7qtu3jhq4.jpeg?q=50\n",
      "https://rukminim1.flixcart.com/image/330/396/k3hmj680/jean/f/n/n/28-lj3381-lzard-original-imafmm52tbx6nthc.jpeg?q=50\n",
      "https://rukminim1.flixcart.com/image/330/396/k12go7k0/jean/6/z/z/32-maw19jn156-metronaut-original-imafkq65hgfzsgfz.jpeg?q=50\n",
      "https://rukminim1.flixcart.com/image/330/396/k1v1h8w0/jean/y/r/b/32-w37021w22smu-wrangler-original-imafhc9exubnty4x.jpeg?q=50\n",
      "https://rukminim1.flixcart.com/image/330/396/jpsnma80/jean/j/a/y/32-mact-02ah-028-spykar-original-imafbxhwggwqujhq.jpeg?q=50\n",
      "https://rukminim1.flixcart.com/image/330/396/k66sh3k0/jean/n/z/s/34-fmjno0961-flying-machine-original-imafzhfhgzexddkg.jpeg?q=50\n",
      "https://rukminim1.flixcart.com/image/330/396/k3yrte80/jean/x/s/f/32-kjb-1178-dnft-bl-killer-original-imafmzybbbjxd629.jpeg?q=50\n",
      "https://rukminim1.flixcart.com/image/330/396/k7tdj0w0/jean/n/h/2/32-fmjno1113-flying-machine-original-imafpwnhfp2r6ztf.jpeg?q=50\n",
      "https://rukminim1.flixcart.com/image/330/396/k7ksvww0/jean/f/g/z/32-fmjno1078-flying-machine-original-imafpz5h5xymkpec.jpeg?q=50\n",
      "https://rukminim1.flixcart.com/image/330/396/k70spzk0/jean/h/r/w/30-hljn000651-highlander-original-imafpchx77ur45yt.jpeg?q=50\n",
      "https://rukminim1.flixcart.com/image/330/396/k0e66q80/jean/f/q/m/32-l36178248smu-lee-original-imafk7y4zmaayatq.jpeg?q=50\n",
      "https://rukminim1.flixcart.com/image/330/396/k7usyvk0/jean/m/y/a/32-w33932w22944-wrangler-original-imafpzdrwka34mez.jpeg?q=50\n",
      "https://rukminim1.flixcart.com/image/330/396/k2urhjk0/jean/h/f/3/32-w38467w22smu-wrangler-original-imafhv9f3myvhpyv.jpeg?q=50\n",
      "https://rukminim1.flixcart.com/image/330/396/k7jdg280/jean/j/z/x/32-fmjno0420-flying-machine-original-imafpz6cnjh3pjua.jpeg?q=50\n",
      "https://rukminim1.flixcart.com/image/330/396/k6jnfrk0/jean/n/s/y/32-fmjno1042-flying-machine-original-imafzydywmbnzhzn.jpeg?q=50\n",
      "https://rukminim1.flixcart.com/image/330/396/k66sh3k0/jean/z/5/v/36-fmjno0958-flying-machine-original-imafzhfh3kavnvpp.jpeg?q=50\n"
     ]
    }
   ],
   "source": [
    "url=[]\n",
    "for image1 in images1:\n",
    "    source =image1.get_attribute('src')\n",
    "    url.append(source)\n",
    "    print(source)"
   ]
  },
  {
   "cell_type": "code",
   "execution_count": 45,
   "metadata": {},
   "outputs": [
    {
     "data": {
      "text/plain": [
       "40"
      ]
     },
     "execution_count": 45,
     "metadata": {},
     "output_type": "execute_result"
    }
   ],
   "source": [
    "len(urls)"
   ]
  },
  {
   "cell_type": "code",
   "execution_count": 46,
   "metadata": {},
   "outputs": [
    {
     "name": "stdout",
     "output_type": "stream",
     "text": [
      "Downloading 1 of 40 images\n",
      "Downloading 2 of 40 images\n",
      "Downloading 3 of 40 images\n",
      "Downloading 4 of 40 images\n",
      "Downloading 5 of 40 images\n",
      "Downloading 6 of 40 images\n",
      "Downloading 7 of 40 images\n",
      "Downloading 8 of 40 images\n",
      "Downloading 9 of 40 images\n",
      "Downloading 10 of 40 images\n",
      "Downloading 11 of 40 images\n",
      "Downloading 12 of 40 images\n",
      "Downloading 13 of 40 images\n",
      "Downloading 14 of 40 images\n",
      "Downloading 15 of 40 images\n",
      "Downloading 16 of 40 images\n",
      "Downloading 17 of 40 images\n",
      "Downloading 18 of 40 images\n",
      "Downloading 19 of 40 images\n",
      "Downloading 20 of 40 images\n",
      "Downloading 21 of 40 images\n",
      "Downloading 22 of 40 images\n",
      "Downloading 23 of 40 images\n",
      "Downloading 24 of 40 images\n",
      "Downloading 25 of 40 images\n",
      "Downloading 26 of 40 images\n",
      "Downloading 27 of 40 images\n",
      "Downloading 28 of 40 images\n",
      "Downloading 29 of 40 images\n",
      "Downloading 30 of 40 images\n",
      "Downloading 31 of 40 images\n",
      "Downloading 32 of 40 images\n",
      "Downloading 33 of 40 images\n",
      "Downloading 34 of 40 images\n",
      "Downloading 35 of 40 images\n",
      "Downloading 36 of 40 images\n",
      "Downloading 37 of 40 images\n",
      "Downloading 38 of 40 images\n",
      "Downloading 39 of 40 images\n",
      "Downloading 40 of 40 images\n"
     ]
    }
   ],
   "source": [
    "\n",
    "    for index, link in enumerate(urls):\n",
    "        print ('Downloading {0} of {1} images'.format(index+1 ,len(urls)))\n",
    "        response = requests.get(link)\n",
    "        with open('mens_jeans/img_{0}.jpeg'.format(index),\"wb\")as file:\n",
    "            file.write(response.content)"
   ]
  },
  {
   "cell_type": "code",
   "execution_count": null,
   "metadata": {},
   "outputs": [],
   "source": []
  },
  {
   "cell_type": "code",
   "execution_count": null,
   "metadata": {},
   "outputs": [],
   "source": []
  },
  {
   "cell_type": "code",
   "execution_count": null,
   "metadata": {},
   "outputs": [],
   "source": []
  },
  {
   "cell_type": "code",
   "execution_count": null,
   "metadata": {},
   "outputs": [],
   "source": []
  },
  {
   "cell_type": "code",
   "execution_count": null,
   "metadata": {},
   "outputs": [],
   "source": []
  },
  {
   "cell_type": "code",
   "execution_count": null,
   "metadata": {},
   "outputs": [],
   "source": []
  },
  {
   "cell_type": "code",
   "execution_count": null,
   "metadata": {},
   "outputs": [],
   "source": []
  },
  {
   "cell_type": "code",
   "execution_count": null,
   "metadata": {},
   "outputs": [],
   "source": []
  },
  {
   "cell_type": "code",
   "execution_count": null,
   "metadata": {},
   "outputs": [],
   "source": []
  },
  {
   "cell_type": "code",
   "execution_count": null,
   "metadata": {},
   "outputs": [],
   "source": []
  },
  {
   "cell_type": "code",
   "execution_count": null,
   "metadata": {},
   "outputs": [],
   "source": []
  },
  {
   "cell_type": "code",
   "execution_count": null,
   "metadata": {},
   "outputs": [],
   "source": []
  },
  {
   "cell_type": "code",
   "execution_count": null,
   "metadata": {},
   "outputs": [],
   "source": []
  },
  {
   "cell_type": "code",
   "execution_count": null,
   "metadata": {},
   "outputs": [],
   "source": []
  },
  {
   "cell_type": "code",
   "execution_count": null,
   "metadata": {},
   "outputs": [],
   "source": []
  },
  {
   "cell_type": "code",
   "execution_count": null,
   "metadata": {},
   "outputs": [],
   "source": []
  },
  {
   "cell_type": "code",
   "execution_count": null,
   "metadata": {},
   "outputs": [],
   "source": []
  },
  {
   "cell_type": "code",
   "execution_count": null,
   "metadata": {},
   "outputs": [],
   "source": []
  },
  {
   "cell_type": "code",
   "execution_count": null,
   "metadata": {},
   "outputs": [],
   "source": []
  },
  {
   "cell_type": "code",
   "execution_count": null,
   "metadata": {},
   "outputs": [],
   "source": []
  },
  {
   "cell_type": "code",
   "execution_count": null,
   "metadata": {},
   "outputs": [],
   "source": []
  },
  {
   "cell_type": "code",
   "execution_count": null,
   "metadata": {},
   "outputs": [],
   "source": []
  },
  {
   "cell_type": "code",
   "execution_count": null,
   "metadata": {},
   "outputs": [],
   "source": []
  },
  {
   "cell_type": "code",
   "execution_count": null,
   "metadata": {},
   "outputs": [],
   "source": []
  },
  {
   "cell_type": "code",
   "execution_count": null,
   "metadata": {},
   "outputs": [],
   "source": []
  },
  {
   "cell_type": "code",
   "execution_count": null,
   "metadata": {},
   "outputs": [],
   "source": []
  },
  {
   "cell_type": "code",
   "execution_count": null,
   "metadata": {},
   "outputs": [],
   "source": []
  },
  {
   "cell_type": "code",
   "execution_count": null,
   "metadata": {},
   "outputs": [],
   "source": []
  },
  {
   "cell_type": "code",
   "execution_count": null,
   "metadata": {},
   "outputs": [],
   "source": []
  },
  {
   "cell_type": "code",
   "execution_count": null,
   "metadata": {},
   "outputs": [],
   "source": []
  },
  {
   "cell_type": "code",
   "execution_count": null,
   "metadata": {},
   "outputs": [],
   "source": []
  },
  {
   "cell_type": "code",
   "execution_count": null,
   "metadata": {},
   "outputs": [],
   "source": []
  },
  {
   "cell_type": "code",
   "execution_count": null,
   "metadata": {},
   "outputs": [],
   "source": []
  },
  {
   "cell_type": "code",
   "execution_count": null,
   "metadata": {},
   "outputs": [],
   "source": []
  },
  {
   "cell_type": "code",
   "execution_count": null,
   "metadata": {},
   "outputs": [],
   "source": []
  },
  {
   "cell_type": "code",
   "execution_count": null,
   "metadata": {},
   "outputs": [],
   "source": []
  },
  {
   "cell_type": "code",
   "execution_count": null,
   "metadata": {},
   "outputs": [],
   "source": []
  },
  {
   "cell_type": "code",
   "execution_count": null,
   "metadata": {},
   "outputs": [],
   "source": []
  },
  {
   "cell_type": "code",
   "execution_count": null,
   "metadata": {},
   "outputs": [],
   "source": []
  },
  {
   "cell_type": "code",
   "execution_count": null,
   "metadata": {},
   "outputs": [],
   "source": []
  },
  {
   "cell_type": "code",
   "execution_count": null,
   "metadata": {},
   "outputs": [],
   "source": []
  },
  {
   "cell_type": "code",
   "execution_count": null,
   "metadata": {},
   "outputs": [],
   "source": []
  },
  {
   "cell_type": "code",
   "execution_count": null,
   "metadata": {},
   "outputs": [],
   "source": []
  },
  {
   "cell_type": "code",
   "execution_count": null,
   "metadata": {},
   "outputs": [],
   "source": []
  },
  {
   "cell_type": "code",
   "execution_count": null,
   "metadata": {},
   "outputs": [],
   "source": []
  },
  {
   "cell_type": "code",
   "execution_count": null,
   "metadata": {},
   "outputs": [],
   "source": []
  },
  {
   "cell_type": "code",
   "execution_count": null,
   "metadata": {},
   "outputs": [],
   "source": [
    "  "
   ]
  },
  {
   "cell_type": "code",
   "execution_count": null,
   "metadata": {},
   "outputs": [],
   "source": []
  },
  {
   "cell_type": "code",
   "execution_count": null,
   "metadata": {},
   "outputs": [],
   "source": []
  },
  {
   "cell_type": "code",
   "execution_count": null,
   "metadata": {},
   "outputs": [],
   "source": []
  },
  {
   "cell_type": "code",
   "execution_count": null,
   "metadata": {},
   "outputs": [],
   "source": []
  },
  {
   "cell_type": "code",
   "execution_count": null,
   "metadata": {},
   "outputs": [],
   "source": []
  },
  {
   "cell_type": "code",
   "execution_count": null,
   "metadata": {},
   "outputs": [],
   "source": []
  },
  {
   "cell_type": "code",
   "execution_count": null,
   "metadata": {},
   "outputs": [],
   "source": []
  },
  {
   "cell_type": "code",
   "execution_count": null,
   "metadata": {},
   "outputs": [],
   "source": []
  },
  {
   "cell_type": "code",
   "execution_count": null,
   "metadata": {},
   "outputs": [],
   "source": []
  },
  {
   "cell_type": "code",
   "execution_count": null,
   "metadata": {},
   "outputs": [],
   "source": []
  },
  {
   "cell_type": "code",
   "execution_count": null,
   "metadata": {},
   "outputs": [],
   "source": []
  },
  {
   "cell_type": "code",
   "execution_count": null,
   "metadata": {},
   "outputs": [],
   "source": []
  },
  {
   "cell_type": "code",
   "execution_count": null,
   "metadata": {},
   "outputs": [],
   "source": []
  },
  {
   "cell_type": "code",
   "execution_count": null,
   "metadata": {},
   "outputs": [],
   "source": []
  },
  {
   "cell_type": "code",
   "execution_count": null,
   "metadata": {},
   "outputs": [],
   "source": []
  },
  {
   "cell_type": "code",
   "execution_count": null,
   "metadata": {},
   "outputs": [],
   "source": []
  },
  {
   "cell_type": "code",
   "execution_count": null,
   "metadata": {},
   "outputs": [],
   "source": []
  },
  {
   "cell_type": "code",
   "execution_count": null,
   "metadata": {},
   "outputs": [],
   "source": []
  },
  {
   "cell_type": "code",
   "execution_count": null,
   "metadata": {},
   "outputs": [],
   "source": []
  },
  {
   "cell_type": "code",
   "execution_count": null,
   "metadata": {},
   "outputs": [],
   "source": []
  },
  {
   "cell_type": "code",
   "execution_count": null,
   "metadata": {},
   "outputs": [],
   "source": []
  },
  {
   "cell_type": "code",
   "execution_count": null,
   "metadata": {},
   "outputs": [],
   "source": []
  },
  {
   "cell_type": "code",
   "execution_count": null,
   "metadata": {},
   "outputs": [],
   "source": []
  },
  {
   "cell_type": "code",
   "execution_count": null,
   "metadata": {},
   "outputs": [],
   "source": []
  },
  {
   "cell_type": "code",
   "execution_count": null,
   "metadata": {},
   "outputs": [],
   "source": []
  },
  {
   "cell_type": "code",
   "execution_count": null,
   "metadata": {},
   "outputs": [],
   "source": []
  },
  {
   "cell_type": "code",
   "execution_count": null,
   "metadata": {},
   "outputs": [],
   "source": []
  },
  {
   "cell_type": "code",
   "execution_count": null,
   "metadata": {},
   "outputs": [],
   "source": []
  },
  {
   "cell_type": "code",
   "execution_count": null,
   "metadata": {},
   "outputs": [],
   "source": []
  },
  {
   "cell_type": "code",
   "execution_count": null,
   "metadata": {},
   "outputs": [],
   "source": []
  },
  {
   "cell_type": "code",
   "execution_count": null,
   "metadata": {},
   "outputs": [],
   "source": []
  },
  {
   "cell_type": "code",
   "execution_count": null,
   "metadata": {},
   "outputs": [],
   "source": []
  },
  {
   "cell_type": "code",
   "execution_count": null,
   "metadata": {},
   "outputs": [],
   "source": []
  },
  {
   "cell_type": "code",
   "execution_count": null,
   "metadata": {},
   "outputs": [],
   "source": []
  },
  {
   "cell_type": "code",
   "execution_count": null,
   "metadata": {},
   "outputs": [],
   "source": []
  },
  {
   "cell_type": "code",
   "execution_count": null,
   "metadata": {},
   "outputs": [],
   "source": []
  },
  {
   "cell_type": "code",
   "execution_count": null,
   "metadata": {},
   "outputs": [],
   "source": []
  },
  {
   "cell_type": "code",
   "execution_count": null,
   "metadata": {},
   "outputs": [],
   "source": []
  },
  {
   "cell_type": "code",
   "execution_count": null,
   "metadata": {},
   "outputs": [],
   "source": []
  },
  {
   "cell_type": "code",
   "execution_count": null,
   "metadata": {},
   "outputs": [],
   "source": []
  },
  {
   "cell_type": "code",
   "execution_count": null,
   "metadata": {},
   "outputs": [],
   "source": []
  },
  {
   "cell_type": "code",
   "execution_count": null,
   "metadata": {},
   "outputs": [],
   "source": []
  },
  {
   "cell_type": "code",
   "execution_count": null,
   "metadata": {},
   "outputs": [],
   "source": []
  },
  {
   "cell_type": "code",
   "execution_count": null,
   "metadata": {},
   "outputs": [],
   "source": []
  },
  {
   "cell_type": "code",
   "execution_count": null,
   "metadata": {},
   "outputs": [],
   "source": []
  },
  {
   "cell_type": "code",
   "execution_count": null,
   "metadata": {},
   "outputs": [],
   "source": []
  },
  {
   "cell_type": "code",
   "execution_count": null,
   "metadata": {},
   "outputs": [],
   "source": []
  },
  {
   "cell_type": "code",
   "execution_count": null,
   "metadata": {},
   "outputs": [],
   "source": []
  },
  {
   "cell_type": "code",
   "execution_count": null,
   "metadata": {},
   "outputs": [],
   "source": []
  },
  {
   "cell_type": "code",
   "execution_count": null,
   "metadata": {},
   "outputs": [],
   "source": []
  },
  {
   "cell_type": "code",
   "execution_count": null,
   "metadata": {},
   "outputs": [],
   "source": []
  },
  {
   "cell_type": "code",
   "execution_count": null,
   "metadata": {},
   "outputs": [],
   "source": []
  },
  {
   "cell_type": "code",
   "execution_count": null,
   "metadata": {},
   "outputs": [],
   "source": []
  }
 ],
 "metadata": {
  "kernelspec": {
   "display_name": "Python 3",
   "language": "python",
   "name": "python3"
  },
  "language_info": {
   "codemirror_mode": {
    "name": "ipython",
    "version": 3
   },
   "file_extension": ".py",
   "mimetype": "text/x-python",
   "name": "python",
   "nbconvert_exporter": "python",
   "pygments_lexer": "ipython3",
   "version": "3.7.6"
  }
 },
 "nbformat": 4,
 "nbformat_minor": 4
}
