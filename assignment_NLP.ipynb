{
 "cells": [
  {
   "cell_type": "code",
   "execution_count": 10,
   "metadata": {},
   "outputs": [],
   "source": [
    "import string\n",
    "from collections import Counter\n",
    "\n",
    "import matplotlib.pyplot as plt\n",
    "import string\n",
    "\n",
    "from collections import Counter\n",
    "\n",
    "\n",
    "from nltk.corpus import stopwords\n",
    "\n",
    "from nltk.sentiment.vader import SentimentIntensityAnalyzer\n",
    "\n",
    "from nltk.stem import WordNetLemmatizer\n",
    "\n",
    "from nltk.tokenize import word_tokenize\n",
    "\n",
    "import nltk"
   ]
  },
  {
   "cell_type": "code",
   "execution_count": null,
   "metadata": {},
   "outputs": [],
   "source": []
  },
  {
   "cell_type": "code",
   "execution_count": 11,
   "metadata": {},
   "outputs": [],
   "source": [
    "def get_tweets():\n",
    "    import GetOldTweets3 as got\n",
    "    tweetCriteria=got.manager.TweetCriteria().setQuerySearch('Corona Virus') \\\n",
    "    .setSince(\"2020-03-15\") \\\n",
    "    .setUntil(\"2020-08-14\") \\\n",
    "    .setMaxTweets(100)\n",
    "    tweets = got.manager.TweetManager.getTweets(tweetCriteria)\n",
    "    text_tweets = [[tweet.text] for tweet in tweets]\n",
    "    return text_tweets"
   ]
  },
  {
   "cell_type": "code",
   "execution_count": null,
   "metadata": {},
   "outputs": [],
   "source": []
  },
  {
   "cell_type": "code",
   "execution_count": 12,
   "metadata": {},
   "outputs": [],
   "source": [
    "text = \"\"\n",
    "text_tweets = get_tweets()\n",
    "\n",
    "length = len(text_tweets)\n",
    "\n",
    "for i in range(0, length):\n",
    "    text = text_tweets[i][0] + \" \" + text\n",
    "\n",
    "\n",
    "lower_case = text.lower()\n",
    "\n",
    "cleaned_text = lower_case.translate(str.maketrans('', '', string.punctuation))\n",
    "\n",
    "tokenized_words = cleaned_text.split()\n"
   ]
  },
  {
   "cell_type": "code",
   "execution_count": null,
   "metadata": {},
   "outputs": [],
   "source": []
  },
  {
   "cell_type": "code",
   "execution_count": 5,
   "metadata": {},
   "outputs": [
    {
     "data": {
      "text/plain": [
       "[['Florida is a coronavirus hotspot, yet a sheriff banned face masks in his office - news - Armstrong MyWire https://www.armstrongmywire.com/news/read/article/bgr-florida_is_a_coronavirus_hotspot_yet_a_sheriff_ban-rpenskemc/category/news#.XzXTYXqJ_1s.twitter What kind of otherworldly morons elected this super idiot to be their sheriff??? '],\n",
       " ['\"CDC issues warning for the fall if COVID-19 measures aren\\'t followed\" https://twitter.com/i/events/1293951751465271301 #coronavirus #health #medical #COVID19 #BePrepared #BeInformed #ActualFacts #WearADamnMask #StayHomeSaveLives #StayTheFHome #WashYourHands'],\n",
       " [\"We, residents of the city of Mosul, suffer from a great lack of oxygen in hospitals due to Corona virus 19. Help us spread this hashtac. You may contribute to saving a person's life. #الموصل_تختنق\"],\n",
       " ['Mi hermana se larga a llorar xq dice que no se va a recibir por el coronavirus'],\n",
       " ['Doctors lay out plan to ‘punish’ people who refuse coronavirus vaccine: ‘There is no alternative’ | News | Lifesitenews '],\n",
       " [\"Fauci's guidance on pre-vaccine coronavirus treatments \"],\n",
       " ['El Gobierno de Ayuso admite 1.671 nuevos positivos: cifra récord de contagios por coronavirus en Madrid via @El_Plural'],\n",
       " ['Con 433.805 Casos, 14.145 Muertes, y 250.494 Recuperados, se cierra el 13 de Agosto de 2020 en cuanto al avance del #CoronaVirus en #Colombia, con el 57.74% de Casos Recuperados, y 3.26% de Casos con Muerte. https://www.instagram.com/s/aGlnaGxpZ2h0OjE3ODgyMjg1MDM1NzAxNTM1?igshid=1ks5nk6pl2d09&amp;story_media_id=2375127130822749237_868253612'],\n",
       " [\"Corona virus event is not what we've been told it is. Watch Glenn Beck video. We've been scammed. This is about central banks and a financial reset. \"],\n",
       " ['The True Coronavirus Toll in the U.S. Has Already Surpassed 200,000 '],\n",
       " ['13/08/20 Santa Fe informa 167 nuevos casos confirmados de coronavirus en su territorio. • 64 de Rosario (16 contactos de casos confirmados y 48 en investigación). • 20 de Casilda (1 contacto de caso confirmado y 19 en investigación). • confirmado y 2 en investigación). '],\n",
       " ['Most Americans won’t be able to get a coronavirus vaccine until well into 2021 https://www.seattletimes.com/nation-world/nation-politics/most-americans-wont-be-able-to-get-a-coronavirus-vaccine-until-well-into-2021/?utm_source=twitter&amp;utm_medium=social&amp;utm_campaign=article_inset_1.1 via @seattletimes'],\n",
       " ['#California #SanFrancisco #SanDiego #Washington #Seattle #Florida #NewYork #Texas #Boston #colorado #miami #hawaii #honolulu #waikiki #alamoana #kahala #lanikai #kailua #kaneohe #Arizona #Delaware #Election2020 #BidenHarris2020 #coronavirus #Covid_19 #cnn #msnbc'],\n",
       " ['Hanno impedito: - autopsie - uso terapie note da decenni c/coronavirus - terapie domiciliare efficaci - nessuna prevenzione ambientale indoor e supplementazione nutrizionale cellullare - che non venissero inoculati vaccinazioni influenzali (v. studio militari USA 2019)'],\n",
       " ['A Special Welcome It was a homecoming befitting a conquering hero, as 21-year-old Colby Douglas returned home triumphant after battling #COVID19 #coronavirus. @EmYoungTV reports.'],\n",
       " ['Yo dejaré esto por aquí.. #Carebarro #CarebarroCR #PACNuncaMás #CostaRica #FronteraNorte #LibertadDeExpresión #noalacensura #Trump2020 #coronavirus #COVIDー19'],\n",
       " ['Secuenciación Genómica Una VACUNA contra el COVID-19 Científicos del mundo buscan una cura para el nuevo coronavirus La evidencia existente y eso los ayuda en este duro camino es información que le puede ganar la carrera a la pandemia '],\n",
       " [\"#MoscowMitch @senatemajldr has sent @SenateGOP's home 4 a month w/ no #coronavirus legislation, to campaign 4 your vote @JohnCornyn @SenMcSallyAZ @SenCoryGardner @SenThomTillis @sendavidperdue @SenatorLoeffler @SteveDaines @SenJoniErnst @DanSullivan_AK @SenatorCollins @JimInhofe\"],\n",
       " ['9 school year essentials for students returning during the coronavirus pandemic - http://www.latestcommentary.com/9-school-year-essentials-for-students-returning-during-the-coronavirus-pandemic/ #LatestComments'],\n",
       " ['Con 433.805 Casos, 14.145 Muertes, y 250.494 Recuperados, se cierra el 13 de Agosto de 2020 en cuanto al avance del #CoronaVirus en #Colombia, con el 57.74% de Casos Recuperados, y 3.26% de Casos con Muerte. https://www.instagram.com/s/aGlnaGxpZ2h0OjE3ODc4MTU1ODUwNzg0NjU2?igshid=1fcoiowxjkpnw&amp;story_media_id=2375126078044097543_868253612'],\n",
       " [' 𝗠𝗜𝗘𝗡𝗧𝗥𝗔𝗦 𝗣𝗥𝗢𝗦𝗜𝗚𝗨𝗘 𝗣𝗥𝗢𝗖𝗘𝗦𝗢 𝗗𝗘 𝗗𝗘𝗦𝗘𝗦𝗖𝗔𝗟𝗔𝗗𝗔 | Brasil contabiliza 3,2 millones de contagios y supera 105.000 decesos por coronavirus Con 60.091 nuevos casos, cifra total de contagios se elevó a 3.224.876 Leé más: https://megacadena.com.py/brasil-contabiliza-32-millones-de-contagios-y-supera-105-000-decesos-por-coronavirus/'],\n",
       " ['Do some research. Fauci touted HCQ for coronavirus years ago. Try to keep up'],\n",
       " ['Chinese cities find coronavirus in frozen food imports, WHO downplays infection risk '],\n",
       " ['Parte nocturno #COVID19 #GeneralAlvarado 13/08/2020 Sin variaciones en el transcurso de este día. Hay 20 casos confirmados de #coronavirus y hay 15 casos en observación: 6 casos con origen en el día de hoy, 5… https://www.instagram.com/p/CD2UtaGBb6X/?igshid=wqcykoj1zlty'],\n",
       " ['BBC News Mundo - Coronavirus en Colombia | \"Ganaron mucha plata con las tres muertes de mi familia\": qué son las EPS, las polémicas entidades privadas de salud que gestionan la contención del coronavirus '],\n",
       " ['Coronavirus: Córdoba registró 168 nuevos casos positivos y 3 muertes '],\n",
       " ['Europa é outro patamar... de corona virus'],\n",
       " ['Sigue el reporte Covid-19 e infórmate todos los días sobre el avance del coronavirus en México y las cifras de afectados '],\n",
       " ['Virginia launches pediatric COVID-19 antibody study Virginia Governor Ralph Northam is launching a pediatric coronavirus study to examine the number of children with COVID-19 antibodies. @TishaLewis for @fox5dc &gt;'],\n",
       " ['Coronavirus: How Emotional Contagion Exacts a Toll '],\n",
       " ['I almost fell out of my chair!!! Good for him. They all should do it and maybe he would stop these campaign speeches in the disguise of a Coronavirus briefing!'],\n",
       " [\"Coronavirus: Seven arrested and dozens fined at Melbourne 'Freedom Day' anti-mask protest https://www.9news.com.au/national/coronavirus-victoria-outbreak-melbourne-anti-mask-freedom-day-protest-rally-arrests-fines-stage-four-restrictions-lockdown-zone-covid19/e0af41b1-7e4a-47c9-ac12-7d7d48b65c8c. Police issuing fines to normal people.NSW health minister wasn’t charged for Ruby princess case.Also,politicians and celebrities avoiding quarantine.Dodgy policing.\"],\n",
       " ['Não perca nossa live de domingo: A reabertura e a luta dos trabalhadores pela vida, com cyrogarcia16 e @SamanthaGuedes7 . #live #coronavirus #corona #coronavírus #reabertura #trabalhadores #socialismo https://www.instagram.com/p/CD2Usyznwa9/?igshid=1ahmqk7siv8qp'],\n",
       " ['Blaming Trump for Coronavirus deaths, even though it is democrat cities and states that have the highest death toll. Demonrats also arranged for COVID patients to be kept in Nursing homes, jeopardizing thousands of old folks. Also blaming the Pres for state decisions is retarded'],\n",
       " ['El jueves 13 no te cases ni te embarques ni te mueras por coronavirus.'],\n",
       " [\"1. We're doing a lot less coronavirus testing The U.S. is cutting back on coronavirus testing. Nationally, the number of tests performed each day is about 17% lower than it was at the end of July, That's why the number of cases is declining while deaths are rising.\"],\n",
       " ['Con 433.805 Casos, 14.145 Muertes, y 250.494 Recuperados, se cierra el 13 de Agosto de 2020 en cuanto al avance del #CoronaVirus en #Colombia, con el 57.74% de Casos Recuperados, y 3.26% de Casos con Muerte. https://www.instagram.com/s/aGlnaGxpZ2h0OjE3ODUxMzEzOTYzMjE1NzE4?igshid=1o06ljx64lyat&amp;story_media_id=2375125533967408055_868253612'],\n",
       " [\"BE PATRIOTIC TESTING & MITIGATION & DISTANCING & FACE MASKS ARE KEY 6' APART OR 6' BELOW ASK AMERICANS TO STAY INSIDE AT HOME FOR 8 TO 12 WEEKS TO SLOW THE SPREAD OF THE CORONA VIRUS &amp; PREVENT DEATH OF MOTHER. FATHER, SISTER, BROTHER, AUNTS, UNCLES... BE A HERO \"],\n",
       " ['The CDC gave a dire warning to Americans today saying we are on a path to this falls Coronavirus outbreak being as bad as the flue Pandemic of 1918. All Trump wanted to do is distract with talk about was his historic peace agreement between 2 countries who were never at war. '],\n",
       " ['Qué chévere así todas esas LACRAS sé tienen que morir. Claro lo del CORONAVIRUS es mentira. Pero que sé MUERAN dé lo que sean... '],\n",
       " [' '],\n",
       " ['Mis hermanos están en lucha franca con mamá para que no nos llegue las visiticas acá a la casa y evitar que nuestra adolescente reberrrrde (ella) efusivamente los reciba... Primera lucha: rumor que en mi casa hay Corona virus. JAJAJAJAJAJAJAJA'],\n",
       " [' Aquí puedes ver la conferencia de prensa de la Secretaría de Salud sobre la situación de la epidemia de coronavirus en nuestro país '],\n",
       " ['I guess it’s only because of the coronavirus #Fortnite #ios #appstore #Googleplay'],\n",
       " ['Eso que significa , que Ud. trato el Corona virus en forma excelente . Consiguiendo oxigeno , pruebas moleculares , ventiladores etc.'],\n",
       " ['New post (Grim New Coronavirus Toll As 64 More Die In LA County: Officials Plead For Safety At Big Companies) has been published on FUNDSWIFT - https://www.fundswift.com/2020/08/13/grim-new-coronavirus-toll-as-64-more-die-in-la-county-officials-plead-for-safety-at-big-companies/'],\n",
       " ['Bay Area volunteers can now sign up for large coronavirus vaccine trials '],\n",
       " ['2 things.... 1. Mail in voting is going to be an untenable nightmare regardless of extra funding...2. I have no interest in 10s of millions of tax dollars being stolen and earmarked for a failed institution under the guise of coronavirus relief.'],\n",
       " ['Columna del @HuffPost \"El coronavirus empuja a América latina a una crisis económica y social sin fondo - Un nuevo pacto social se impone\". #COVID19 #AmericaLatina https://www.huffingtonpost.fr/entry/le-coronavirus-precipite-lamerique-latine-dans-une-crise-economique-et-sociale-sans-fond_fr_5f350625c5b6fc009a61f036?utm_hp_ref=fr-international https://twitter.com/PierreLebret/status/1293979589052641284'],\n",
       " ['People are dying from coronavirus. Millions have lost their health coverage. Millions are unemployed. Many face eviction. The Senate is adjourning for nearly 4 weeks. '],\n",
       " [\"Hi there, you need to include Parenting Payment and Coronavirus Supplement under 'taxable income'. You don't need to include Family Tax Benefit (FTB) or child support in your income estimate. You can read more about income estimates here: https://www.servicesaustralia.gov.au/individuals/topics/your-family-income-estimate-family-assistance-payments/29991#whatincludeest\"],\n",
       " ['Coronavírus infecciosos são encontrados no ar a quase cinco metros de um doente https://brasil.elpais.com/ciencia/2020-08-13/coronavirus-infecciosos-sao-encontrados-no-ar-a-quase-cinco-metros-de-um-doente.html?ssm=TW_CC via @elpais_brasil'],\n",
       " ['Gov. Mike Parson said despite rising cases of coronavirus, it was still important that the Missouri State Fair take place. '],\n",
       " ['Especial/ Coronavirus dificulta la supervivencia de indígenas Wayuu https://corrillos.com.co/2020/08/especial-coronavirus-dificulta-la-supervivencia-de-indigenas-wayuu/ vía @corrillosr'],\n",
       " ['Fallecieron 149 personas por coronavirus en el país en la últimas 24 horas https://ift.tt/2FkeFo1'],\n",
       " ['Not having Diet Dr. Pepper is worse than the Coronavirus. '],\n",
       " ['50052 - NUNCA O POVO DESINFORMADO FICOU SEM NENHUMA OCUPAÇÃO COM A PANDEMIA(GRIPEZINHA) DO CORONAVÍRUS! '],\n",
       " ['#QuédateEnCasa ılılı. AL AIRE .ılılı Conferencia de la @SSalud_mx del 13 de #agosto de 2020 sobre #Coronavirus #COVID19 por @radiodelfin 88.9 FM #GraciasPorCuidarnos'],\n",
       " ['#Democrats Cant rely upon #trump or #GOP to Protect our kids or Teachers from #coronavirus; pawns of the #Republicans until 01/20/21 Pls read https://bit.ly/2XqtsE3 Contribute Now &amp; Get It Back Fall 2021 #ResistersUnite #StrongerTogether #FBR #ShareifYouCare'],\n",
       " ['#realestatelife #realestateinvesting #luxuryhomes #business #design #broker #realestateinvestor #homesforsale #realtors #jos #abuja #Nigeria #coronavirus'],\n",
       " ['Colapso del sistema de salud: Falleció otro médico en Zulia a causa del coronavirus https://bit.ly/339r7kC #13A.'],\n",
       " ['Brasileiros descobrem que anticorpo de cavalos contra a Covid é até 50 vezes mais potente | Coronavírus | G1 '],\n",
       " ['@thereidout And if these players get sick, they could lose their scholarship. Their scholarship should be guaranteed. Coronavirus can possibly leave them sick for a long period.'],\n",
       " ['Uno menos en la narcodictadura del carnicero de Miraflores. El Frente Amplio y el PC de luto en Chile Venezuela: Fallece jefe del gobierno de Caracas Darío Vivas por coronavirus '],\n",
       " ['#OMG | ¿GUUUAT? ¡La youtuber que TOMA SEMEN para no contagiarse de coronavirus! .- https://bit.ly/3kAbado !_'],\n",
       " ['Conferencia en vivo de hoy 13 de agosto por el coronavirus en México '],\n",
       " ['#Magdalena El Magdalena registra 315 nuevos casos de Covid-19 y ocho decesos. El INS reportó 221 nuevos casos de coronavirus en Santa Marta y 94 en el resto del departamento. '],\n",
       " [\"Will this be the next source of stress and anxiety to the general public? @abcnews: WHO plays down China's worry over coronavirus on food packaging after chicken wings found with COVID-19 \"],\n",
       " ['@MariLoliPellon @NTelevisaPuebla @NadiadelaR @SamanthaGraley @AEstamos Viendo articulos de National Geographic sobre la lucha con coronavirus. '],\n",
       " ['Save your source. You’re acting like the coronavirus doesn’t have a 99% survival rate. Should we judge Obama for not shutting down the country during H1N1? Or are you just looking for something to blame on Trump?'],\n",
       " ['YA ESTOY HASTA LA VERGA DEL CORONAVIRUS A LA VERGAAAAAAAAAAA'],\n",
       " ['Que es lo que más extrañan de sus #juebebes? Yo carcajearme con mis amigas hasta que nos duela la panza #coronavirus vete ya #freefortnite'],\n",
       " ['Nike Reveals Peculiar New \"Offline\" Slides: Photos - Due to the Coronavirus-imposed quarantine, we really haven\\'t been able to go outside very much... - https://www.4hiphop.org/nike-reveals-peculiar-new-offline-slides-photos/'],\n",
       " ['日本的2019冠状病毒单日新增病例再次突破1000起。https://bit.ly/3fSekpb 【2019冠状病毒疫情最新发展 &gt;&gt;http://bit.ly/2uEsAQk #8视界新闻 #8worldnews #2019nCoV #NovelCoronavirus #coronavirus #COVID19'],\n",
       " ['I met with a Surgeon affiliated with the Children’s Health Defense (which backs Dr. Shiva) and what she said along with the material I’ve read haven’t said he’s anti-vax. Though his views on the coronavirus really are repulsing'],\n",
       " [\"Corona virus event is not what we've been told it is. Watch Glenn Beck video. We've been scammed. This is about central banks and a financial reset. \"],\n",
       " ['All those big, strapping, young football players need to talk to some of the coronavirus survivors. The ones who months later, are still suffering from the effects of COVID19. Is it worth having breathing problems for 6 or more months? #TheReidOut'],\n",
       " ['El sexo es una enfermedad, que termina en la cama.” #coronavirus'],\n",
       " ['He died of coronavirus he caught at a Trump rally'],\n",
       " ['Es más que una burla, es incapacidad para batallar contra el corona virus y el corruptivirus!'],\n",
       " ['Already dealing with more mental health concerns than preceding generations, Generation Z has reported feeling increased amounts of loneliness and anxiety during the coronavirus pandemic, reports @rosen_rosen06.'],\n",
       " [' Con el arribo de seis pacientes desde Tres Isletas, la Unidad Médica de la UNCAus registró un 90% de la ocupación de las camas para pacientes con coronavirus. #SaenzPeña'],\n",
       " [' ... Trump begs Biden to stop ‘scoring political points’ on the White House coronavirus failures https://www.rawstory.com/2020/08/trump-begs-biden-to-stop-scoring-political-points-on-the-white-house-failures/ #SmartNews'],\n",
       " ['Coronavirus: 149 muertos y 7.498 nuevos contagios detectados en el país '],\n",
       " ['En las últimas 24 horas se registraron 7.498 nuevos contagios por coronavirus en todo el país http://dlvr.it/Rdc890'],\n",
       " ['Georgia school with photos of packed hallways will curb in-person classes after coronavirus outbreak '],\n",
       " ['Vídeo novo no canal ! Hoje falamos um pouco sobre a situação do Hulkenberg ,que está como piloto substituto do ,titular da Racing Point Sergio Pérez,que testou positivo para o novo coronavírus,Pérez fez um novo… https://www.instagram.com/p/CD2UpRyg8Sq/?igshid=mt39twi0bmqf'],\n",
       " [' #AHORA|#Urgente》El @TSEBolivia ratifica que las elecciones se celebrarán el 18 de octubre, luego de la promulgación de la nueva ley electoral. #Coronavirus'],\n",
       " [\"Putin claims to have created a coronavirus vaccine. Honestly, I just can't trust that guy. #PutinVaccine\"],\n",
       " ['Masks are to Coronavirus What condoms were to AIDS?'],\n",
       " ['Trump continues his push to reopen the economy, athletic events, and public schools, although many of the schools that have opened immediately saw coronavirus infections and have had to shut again. Despite the devastating effects of the coronavirus on Native American'],\n",
       " ['Corona virus oblige, je ne serai pas présente lors de la dégustation'],\n",
       " ['Porra, acho que o corona vírus tb atrapalhou um bocado. Sepá, eu estaria até namorando, mas com outro cara... lembra? Enfim, sou persistente p caralho, mas nesse quesito da vida eu to preferindo n ser, tlgd? Vamo ver ai... ta faltando pouco p eu tirar a pergunta do post ai e se+'],\n",
       " ['#Revenues are what blocks #USA from getting rid of the coronavirus. Health is more important than dollars.'],\n",
       " ['That is one the biggest lies Trump has ever Told!Trump’s stupidity,lying,egotism,lack of leadership,corrupt interests and inexperience created the Trump Corona Virus in the US.Trump killed 200,000 Americans,caused our economic depression, record unemployment and business failures'],\n",
       " ['The rapid expansion of coronavirus testing in senior care has put greater pressure on an already stretched system, particularly as COVID-19 cases surge across Minnesota and the U.S. '],\n",
       " ['Aunque haya coronavirus?'],\n",
       " ['Most Americans won’t be able to get a coronavirus vaccine until well into 2021 | The Seattle Times '],\n",
       " [\"Corona virus event is not what we've been told it is. Watch Glenn Beck video. We've been scammed. This is about central banks and a financial reset. \"],\n",
       " ['#coronavirus #Sergipe INFECTADOS: 66.810 RECUPERADOS: 52.842 INFEC. ATIVOS: 12.298 ÓBITOS: 1.670 TAXA DE MORTALIDADE: 2,49% TOTAL DE TESTE REALIZADOS: 118.678 TAXA DA POPULAÇÃO TESTADA: 5,34% NOVOS INFECTADOS: 945 NOVOS ÓBITOS: 17 CASOS SUSPEITOS: 5.154']]"
      ]
     },
     "execution_count": 5,
     "metadata": {},
     "output_type": "execute_result"
    }
   ],
   "source": [
    "text_tweets"
   ]
  },
  {
   "cell_type": "code",
   "execution_count": 7,
   "metadata": {},
   "outputs": [],
   "source": [
    "stop_words = [\"is\", \"his\", \"of\", \"this\", \"to\", \"for\", \"of\", \"We\", \"the\", \"from\", \"in\", \"us\",\n",
    "              \"se\", \"a\", \"que\", \"no\", \"se\", \"va\", \"her\", \"on\",\"de\", \"en\", \"out\", \"who\",\n",
    "              \"on\", \"de\", \"not\", \"it\", \"This\", \"and\", \"Has\", \"won't\", \"get\", \"as\", \"el\", \"La\",\n",
    "              \"those\", \"am\", \"is\", \"are\", \"was\", \"were\", \"be\", \"been\", \"being\", \"have\", \"has\", \"had\", \"having\", \"do\",\n",
    "              \"during\", \"total\", \"some\", \"up\", \"How\", \"him\", \"maybe\", \"stop\", \"&\", \"gave\", \"we\", \"who\", \"it's\",\"can\",\n",
    "              \"be\",\"we\",\"down\",\"or\",\"you\",\"not\",\"some\"]\n",
    "\n",
    "final_words = [word for word in tokenized_words if word not in stop_words]"
   ]
  },
  {
   "cell_type": "code",
   "execution_count": 8,
   "metadata": {},
   "outputs": [
    {
     "name": "stdout",
     "output_type": "stream",
     "text": [
      "Counter({' happy': 2, ' fearful': 1, ' lost': 1, ' sad': 1})\n"
     ]
    }
   ],
   "source": [
    "emotion_list = []\n",
    "with open('emotions.txt', 'r') as file:\n",
    "    for line in file:\n",
    "        clear_line = line.replace('\\n', '').replace(',', '').replace(\"'\", '').strip()\n",
    "        word, emotion = clear_line.split(':')\n",
    "        if word in final_words:\n",
    "            emotion_list.append(emotion)\n",
    "\n",
    "w = Counter(emotion_list)\n",
    "print(w)\n"
   ]
  },
  {
   "cell_type": "code",
   "execution_count": 9,
   "metadata": {},
   "outputs": [
    {
     "data": {
      "image/png": "[encoded data removed]",
      "text/plain": [
       "<Figure size 432x288 with 1 Axes>"
      ]
     },
     "metadata": {
      "needs_background": "light"
     },
     "output_type": "display_data"
    }
   ],
   "source": [
    "fig, ax1 = plt.subplots()\n",
    "ax1.bar(w.keys(), w.values())\n",
    "fig.autofmt_xdate()\n",
    "plt.savefig('graph.png')\n",
    "plt.show()"
   ]
  },
  {
   "cell_type": "code",
   "execution_count": null,
   "metadata": {},
   "outputs": [],
   "source": []
  },
  {
   "cell_type": "code",
   "execution_count": null,
   "metadata": {},
   "outputs": [],
   "source": []
  },
  {
   "cell_type": "code",
   "execution_count": null,
   "metadata": {},
   "outputs": [],
   "source": []
  },
  {
   "cell_type": "code",
   "execution_count": null,
   "metadata": {},
   "outputs": [],
   "source": []
  }
 ],
 "metadata": {
  "kernelspec": {
   "display_name": "Python 3",
   "language": "python",
   "name": "python3"
  },
  "language_info": {
   "codemirror_mode": {
    "name": "ipython",
    "version": 3
   },
   "file_extension": ".py",
   "mimetype": "text/x-python",
   "name": "python",
   "nbconvert_exporter": "python",
   "pygments_lexer": "ipython3",
   "version": "3.7.6"
  }
 },
 "nbformat": 4,
 "nbformat_minor": 4
}
