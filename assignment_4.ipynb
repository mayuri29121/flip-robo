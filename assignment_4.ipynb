{
 "cells": [
  {
   "cell_type": "code",
   "execution_count": 41,
   "metadata": {},
   "outputs": [],
   "source": [
    "from keras.preprocessing.image import ImageDataGenerator \n",
    "import keras\n",
    "from keras.models import Sequential \n",
    "from keras.layers import Conv2D, MaxPooling2D \n",
    "from keras.layers import Activation, Dropout, Flatten, Dense \n",
    "from keras import backend as K \n",
    "import warnings\n",
    "warnings.filterwarnings(\"ignore\")\n",
    "from tensorflow.python.util import deprecation\n",
    "deprecation._PRINT_DEPRECATION_WARNINGS = False\n",
    "from keras.optimizers import RMSprop\n",
    "img_width, img_height = 224, 224\n",
    "  \n",
    "train_data_dir = 'D:/New folder (7)/data/train'\n",
    "validation_data_dir = 'D:/New folder (7)/data/vaildation'\n",
    "nb_train_samples = 1400 \n",
    "nb_validation_samples = 859\n",
    "epochs = 20\n",
    "batch_size = 16\n",
    "  "
   ]
  },
  {
   "cell_type": "code",
   "execution_count": 49,
   "metadata": {},
   "outputs": [],
   "source": [
    "if K.image_data_format() == 'channels_first': \n",
    "    input_shape = (3, img_width, img_height) \n",
    "else: \n",
    "    input_shape = (img_width, img_height, 3) \n",
    "    model = Sequential() \n",
    "    model.add(Conv2D(32, (2, 2), input_shape = input_shape)) \n",
    "    model.add(Activation('relu')) \n",
    "    model.add(MaxPooling2D(pool_size =(2, 2))) \n",
    "  \n",
    "    model.add(Conv2D(32, (2, 2))) \n",
    "    model.add(Activation('relu')) \n",
    "    model.add(MaxPooling2D(pool_size =(2, 2))) \n",
    "  \n",
    "    model.add(Conv2D(64, (2, 2))) \n",
    "    model.add(Activation('relu')) \n",
    "    model.add(MaxPooling2D(pool_size =(2, 2))) \n",
    "  \n",
    "    model.add(Flatten()) \n",
    "    model.add(Dense(64)) \n",
    "    model.add(Activation('relu')) \n",
    "    model.add(Dropout(0.5)) \n",
    "    model.add(Dense(1)) \n",
    "    model.add(Activation('sigmoid')) \n",
    "    opt = keras.optimizers.Adam(learning_rate=0.01)\n",
    "\n",
    "    model.compile(loss ='binary_crossentropy', \n",
    "                     optimizer ='adam', \n",
    "                   metrics =['accuracy']) \n",
    "    "
   ]
  },
  {
   "cell_type": "code",
   "execution_count": 50,
   "metadata": {},
   "outputs": [
    {
     "name": "stdout",
     "output_type": "stream",
     "text": [
      "Model: \"sequential_6\"\n",
      "_________________________________________________________________\n",
      "Layer (type)                 Output Shape              Param #   \n",
      "=================================================================\n",
      "conv2d_16 (Conv2D)           (None, 223, 223, 32)      416       \n",
      "_________________________________________________________________\n",
      "activation_21 (Activation)   (None, 223, 223, 32)      0         \n",
      "_________________________________________________________________\n",
      "max_pooling2d_16 (MaxPooling (None, 111, 111, 32)      0         \n",
      "_________________________________________________________________\n",
      "conv2d_17 (Conv2D)           (None, 110, 110, 32)      4128      \n",
      "_________________________________________________________________\n",
      "activation_22 (Activation)   (None, 110, 110, 32)      0         \n",
      "_________________________________________________________________\n",
      "max_pooling2d_17 (MaxPooling (None, 55, 55, 32)        0         \n",
      "_________________________________________________________________\n",
      "conv2d_18 (Conv2D)           (None, 54, 54, 64)        8256      \n",
      "_________________________________________________________________\n",
      "activation_23 (Activation)   (None, 54, 54, 64)        0         \n",
      "_________________________________________________________________\n",
      "max_pooling2d_18 (MaxPooling (None, 27, 27, 64)        0         \n",
      "_________________________________________________________________\n",
      "flatten_6 (Flatten)          (None, 46656)             0         \n",
      "_________________________________________________________________\n",
      "dense_11 (Dense)             (None, 64)                2986048   \n",
      "_________________________________________________________________\n",
      "activation_24 (Activation)   (None, 64)                0         \n",
      "_________________________________________________________________\n",
      "dropout_9 (Dropout)          (None, 64)                0         \n",
      "_________________________________________________________________\n",
      "dense_12 (Dense)             (None, 1)                 65        \n",
      "_________________________________________________________________\n",
      "activation_25 (Activation)   (None, 1)                 0         \n",
      "=================================================================\n",
      "Total params: 2,998,913\n",
      "Trainable params: 2,998,913\n",
      "Non-trainable params: 0\n",
      "_________________________________________________________________\n"
     ]
    }
   ],
   "source": [
    "model.summary()"
   ]
  },
  {
   "cell_type": "code",
   "execution_count": 55,
   "metadata": {},
   "outputs": [],
   "source": [
    "from keras.optimizers import SGD\n",
    "keras.optimizers.SGD(lr=0.01, momentum=0.9, decay=0.0, nesterov=False)\n",
    "model.compile(loss='binary_crossentropy',optimizer=sgd,metrics=['accuracy'])"
   ]
  },
  {
   "cell_type": "code",
   "execution_count": 57,
   "metadata": {},
   "outputs": [
    {
     "data": {
      "text/plain": [
       "<keras.optimizers.RMSprop at 0x2e6aefe98c8>"
      ]
     },
     "execution_count": 57,
     "metadata": {},
     "output_type": "execute_result"
    }
   ],
   "source": [
    "\n",
    "keras.optimizers.RMSprop(lr=0.001, rho=0.9, epsilon=1e-08, decay=0.0)"
   ]
  },
  {
   "cell_type": "code",
   "execution_count": 58,
   "metadata": {},
   "outputs": [],
   "source": [
    "model.compile(optimizer= 'RMSprop' , loss= keras.losses.binary_crossentropy, metrics=['accuracy'])\n"
   ]
  },
  {
   "cell_type": "code",
   "execution_count": 59,
   "metadata": {},
   "outputs": [
    {
     "name": "stdout",
     "output_type": "stream",
     "text": [
      "Model: \"sequential_6\"\n",
      "_________________________________________________________________\n",
      "Layer (type)                 Output Shape              Param #   \n",
      "=================================================================\n",
      "conv2d_16 (Conv2D)           (None, 223, 223, 32)      416       \n",
      "_________________________________________________________________\n",
      "activation_21 (Activation)   (None, 223, 223, 32)      0         \n",
      "_________________________________________________________________\n",
      "max_pooling2d_16 (MaxPooling (None, 111, 111, 32)      0         \n",
      "_________________________________________________________________\n",
      "conv2d_17 (Conv2D)           (None, 110, 110, 32)      4128      \n",
      "_________________________________________________________________\n",
      "activation_22 (Activation)   (None, 110, 110, 32)      0         \n",
      "_________________________________________________________________\n",
      "max_pooling2d_17 (MaxPooling (None, 55, 55, 32)        0         \n",
      "_________________________________________________________________\n",
      "conv2d_18 (Conv2D)           (None, 54, 54, 64)        8256      \n",
      "_________________________________________________________________\n",
      "activation_23 (Activation)   (None, 54, 54, 64)        0         \n",
      "_________________________________________________________________\n",
      "max_pooling2d_18 (MaxPooling (None, 27, 27, 64)        0         \n",
      "_________________________________________________________________\n",
      "flatten_6 (Flatten)          (None, 46656)             0         \n",
      "_________________________________________________________________\n",
      "dense_11 (Dense)             (None, 64)                2986048   \n",
      "_________________________________________________________________\n",
      "activation_24 (Activation)   (None, 64)                0         \n",
      "_________________________________________________________________\n",
      "dropout_9 (Dropout)          (None, 64)                0         \n",
      "_________________________________________________________________\n",
      "dense_12 (Dense)             (None, 1)                 65        \n",
      "_________________________________________________________________\n",
      "activation_25 (Activation)   (None, 1)                 0         \n",
      "=================================================================\n",
      "Total params: 2,998,913\n",
      "Trainable params: 2,998,913\n",
      "Non-trainable params: 0\n",
      "_________________________________________________________________\n"
     ]
    }
   ],
   "source": [
    "model.summary()"
   ]
  },
  {
   "cell_type": "code",
   "execution_count": 52,
   "metadata": {},
   "outputs": [],
   "source": [
    "from keras.optimizers import Nadam\n",
    "keras.optimizers.Nadam(lr=0.002, beta_1=0.9, beta_2=0.999, epsilon=1e-08, schedule_decay=0.004)\n",
    "\n"
   ]
  },
  {
   "cell_type": "code",
   "execution_count": 61,
   "metadata": {},
   "outputs": [
    {
     "name": "stdout",
     "output_type": "stream",
     "text": [
      "Model: \"sequential_6\"\n",
      "_________________________________________________________________\n",
      "Layer (type)                 Output Shape              Param #   \n",
      "=================================================================\n",
      "conv2d_16 (Conv2D)           (None, 223, 223, 32)      416       \n",
      "_________________________________________________________________\n",
      "activation_21 (Activation)   (None, 223, 223, 32)      0         \n",
      "_________________________________________________________________\n",
      "max_pooling2d_16 (MaxPooling (None, 111, 111, 32)      0         \n",
      "_________________________________________________________________\n",
      "conv2d_17 (Conv2D)           (None, 110, 110, 32)      4128      \n",
      "_________________________________________________________________\n",
      "activation_22 (Activation)   (None, 110, 110, 32)      0         \n",
      "_________________________________________________________________\n",
      "max_pooling2d_17 (MaxPooling (None, 55, 55, 32)        0         \n",
      "_________________________________________________________________\n",
      "conv2d_18 (Conv2D)           (None, 54, 54, 64)        8256      \n",
      "_________________________________________________________________\n",
      "activation_23 (Activation)   (None, 54, 54, 64)        0         \n",
      "_________________________________________________________________\n",
      "max_pooling2d_18 (MaxPooling (None, 27, 27, 64)        0         \n",
      "_________________________________________________________________\n",
      "flatten_6 (Flatten)          (None, 46656)             0         \n",
      "_________________________________________________________________\n",
      "dense_11 (Dense)             (None, 64)                2986048   \n",
      "_________________________________________________________________\n",
      "activation_24 (Activation)   (None, 64)                0         \n",
      "_________________________________________________________________\n",
      "dropout_9 (Dropout)          (None, 64)                0         \n",
      "_________________________________________________________________\n",
      "dense_12 (Dense)             (None, 1)                 65        \n",
      "_________________________________________________________________\n",
      "activation_25 (Activation)   (None, 1)                 0         \n",
      "=================================================================\n",
      "Total params: 2,998,913\n",
      "Trainable params: 2,998,913\n",
      "Non-trainable params: 0\n",
      "_________________________________________________________________\n"
     ]
    }
   ],
   "source": [
    "model.summary()"
   ]
  },
  {
   "cell_type": "code",
   "execution_count": 62,
   "metadata": {},
   "outputs": [
    {
     "data": {
      "text/plain": [
       "<keras.callbacks.callbacks.EarlyStopping at 0x2e6af056388>"
      ]
     },
     "execution_count": 62,
     "metadata": {},
     "output_type": "execute_result"
    }
   ],
   "source": [
    "keras.callbacks.EarlyStopping(monitor='val_loss',\n",
    "                              min_delta=0,\n",
    "                              patience=2,\n",
    "                              verbose=0, mode='auto')"
   ]
  },
  {
   "cell_type": "code",
   "execution_count": 63,
   "metadata": {},
   "outputs": [
    {
     "name": "stdout",
     "output_type": "stream",
     "text": [
      "Found 1400 images belonging to 2 classes.\n",
      "Found 879 images belonging to 2 classes.\n"
     ]
    }
   ],
   "source": [
    "train_datagen = ImageDataGenerator( \n",
    "                rescale = 1. / 255, \n",
    "                 shear_range = 0.2, \n",
    "                  zoom_range = 0.2, \n",
    "            horizontal_flip = True) \n",
    "  \n",
    "test_datagen = ImageDataGenerator(rescale = 1. / 255) \n",
    "  \n",
    "train_generator = train_datagen.flow_from_directory(train_data_dir, \n",
    "                              target_size =(img_width, img_height), \n",
    "                     batch_size = batch_size, class_mode ='binary') \n",
    "  \n",
    "validation_generator = test_datagen.flow_from_directory( \n",
    "                                    validation_data_dir, \n",
    "                   target_size =(img_width, img_height), \n",
    "          batch_size = batch_size, class_mode ='binary') "
   ]
  },
  {
   "cell_type": "code",
   "execution_count": 64,
   "metadata": {},
   "outputs": [
    {
     "name": "stdout",
     "output_type": "stream",
     "text": [
      "WARNING:tensorflow:From C:\\ProgramData\\Anaconda3\\envs\\my_env\\lib\\site-packages\\keras\\backend\\tensorflow_backend.py:422: The name tf.global_variables is deprecated. Please use tf.compat.v1.global_variables instead.\n",
      "\n",
      "Epoch 1/20\n",
      "87/87 [==============================] - 96s 1s/step - loss: 0.8100 - accuracy: 0.5954 - val_loss: 0.5482 - val_accuracy: 0.6922\n",
      "Epoch 2/20\n",
      "87/87 [==============================] - 81s 933ms/step - loss: 0.5668 - accuracy: 0.7247 - val_loss: 0.3808 - val_accuracy: 0.7745\n",
      "Epoch 3/20\n",
      "87/87 [==============================] - 81s 926ms/step - loss: 0.4891 - accuracy: 0.7688 - val_loss: 0.3638 - val_accuracy: 0.8288\n",
      "Epoch 4/20\n",
      "87/87 [==============================] - 77s 890ms/step - loss: 0.4486 - accuracy: 0.8006 - val_loss: 0.3155 - val_accuracy: 0.8477\n",
      "Epoch 5/20\n",
      "87/87 [==============================] - 83s 955ms/step - loss: 0.4354 - accuracy: 0.7999 - val_loss: 0.1522 - val_accuracy: 0.8489\n",
      "Epoch 6/20\n",
      "87/87 [==============================] - 81s 927ms/step - loss: 0.3822 - accuracy: 0.8389 - val_loss: 0.3695 - val_accuracy: 0.8772\n",
      "Epoch 7/20\n",
      "87/87 [==============================] - 81s 927ms/step - loss: 0.3392 - accuracy: 0.8685 - val_loss: 0.1682 - val_accuracy: 0.8725\n",
      "Epoch 8/20\n",
      "87/87 [==============================] - 81s 930ms/step - loss: 0.2879 - accuracy: 0.8880 - val_loss: 0.4524 - val_accuracy: 0.8760\n",
      "Epoch 9/20\n",
      "87/87 [==============================] - 81s 933ms/step - loss: 0.2600 - accuracy: 0.8974 - val_loss: 0.4629 - val_accuracy: 0.8808\n",
      "Epoch 10/20\n",
      "87/87 [==============================] - 85s 972ms/step - loss: 0.2733 - accuracy: 0.8916 - val_loss: 0.3837 - val_accuracy: 0.8217\n",
      "Epoch 11/20\n",
      "87/87 [==============================] - 77s 882ms/step - loss: 0.2436 - accuracy: 0.9068 - val_loss: 0.1889 - val_accuracy: 0.9079\n",
      "Epoch 12/20\n",
      "87/87 [==============================] - 77s 888ms/step - loss: 0.1888 - accuracy: 0.9241 - val_loss: 0.2897 - val_accuracy: 0.9280\n",
      "Epoch 13/20\n",
      "87/87 [==============================] - 77s 884ms/step - loss: 0.1539 - accuracy: 0.9422 - val_loss: 0.0336 - val_accuracy: 0.9103\n",
      "Epoch 14/20\n",
      "87/87 [==============================] - 77s 883ms/step - loss: 0.1851 - accuracy: 0.9371 - val_loss: 0.8669 - val_accuracy: 0.8902\n",
      "Epoch 15/20\n",
      "87/87 [==============================] - 78s 895ms/step - loss: 0.2974 - accuracy: 0.8945 - val_loss: 0.1530 - val_accuracy: 0.9315\n",
      "Epoch 16/20\n",
      "87/87 [==============================] - 77s 883ms/step - loss: 0.1911 - accuracy: 0.9263 - val_loss: 0.2208 - val_accuracy: 0.9150\n",
      "Epoch 17/20\n",
      "87/87 [==============================] - 80s 919ms/step - loss: 0.1481 - accuracy: 0.9451 - val_loss: 0.3358 - val_accuracy: 0.8961\n",
      "Epoch 18/20\n",
      "87/87 [==============================] - 78s 894ms/step - loss: 0.7573 - accuracy: 0.9246 - val_loss: 0.8117 - val_accuracy: 0.5313\n",
      "Epoch 19/20\n",
      "87/87 [==============================] - 76s 875ms/step - loss: 0.6504 - accuracy: 0.6555 - val_loss: 0.3795 - val_accuracy: 0.8725\n",
      "Epoch 20/20\n",
      "87/87 [==============================] - 76s 877ms/step - loss: 0.3940 - accuracy: 0.8266 - val_loss: 0.3348 - val_accuracy: 0.8949\n"
     ]
    },
    {
     "data": {
      "text/plain": [
       "<keras.callbacks.callbacks.History at 0x2e6af1478c8>"
      ]
     },
     "execution_count": 64,
     "metadata": {},
     "output_type": "execute_result"
    }
   ],
   "source": [
    "model.fit_generator(train_generator, \n",
    "    steps_per_epoch = nb_train_samples // batch_size, \n",
    "    epochs = epochs, validation_data = validation_generator, \n",
    "    validation_steps = nb_validation_samples // batch_size) \n",
    "  \n",
    " "
   ]
  },
  {
   "cell_type": "code",
   "execution_count": null,
   "metadata": {},
   "outputs": [],
   "source": []
  },
  {
   "cell_type": "code",
   "execution_count": null,
   "metadata": {},
   "outputs": [],
   "source": []
  },
  {
   "cell_type": "code",
   "execution_count": null,
   "metadata": {},
   "outputs": [],
   "source": []
  },
  {
   "cell_type": "code",
   "execution_count": null,
   "metadata": {},
   "outputs": [],
   "source": []
  },
  {
   "cell_type": "code",
   "execution_count": null,
   "metadata": {},
   "outputs": [],
   "source": []
  },
  {
   "cell_type": "code",
   "execution_count": null,
   "metadata": {},
   "outputs": [],
   "source": []
  },
  {
   "cell_type": "code",
   "execution_count": null,
   "metadata": {},
   "outputs": [],
   "source": []
  },
  {
   "cell_type": "code",
   "execution_count": null,
   "metadata": {},
   "outputs": [],
   "source": []
  },
  {
   "cell_type": "code",
   "execution_count": null,
   "metadata": {},
   "outputs": [],
   "source": []
  },
  {
   "cell_type": "code",
   "execution_count": null,
   "metadata": {},
   "outputs": [],
   "source": []
  },
  {
   "cell_type": "code",
   "execution_count": null,
   "metadata": {},
   "outputs": [],
   "source": []
  },
  {
   "cell_type": "code",
   "execution_count": null,
   "metadata": {},
   "outputs": [],
   "source": []
  },
  {
   "cell_type": "code",
   "execution_count": null,
   "metadata": {},
   "outputs": [],
   "source": []
  },
  {
   "cell_type": "code",
   "execution_count": null,
   "metadata": {},
   "outputs": [],
   "source": []
  },
  {
   "cell_type": "code",
   "execution_count": null,
   "metadata": {},
   "outputs": [],
   "source": []
  },
  {
   "cell_type": "code",
   "execution_count": null,
   "metadata": {},
   "outputs": [],
   "source": []
  },
  {
   "cell_type": "code",
   "execution_count": null,
   "metadata": {},
   "outputs": [],
   "source": []
  },
  {
   "cell_type": "code",
   "execution_count": null,
   "metadata": {},
   "outputs": [],
   "source": []
  },
  {
   "cell_type": "code",
   "execution_count": null,
   "metadata": {},
   "outputs": [],
   "source": []
  },
  {
   "cell_type": "code",
   "execution_count": null,
   "metadata": {},
   "outputs": [],
   "source": []
  },
  {
   "cell_type": "code",
   "execution_count": null,
   "metadata": {},
   "outputs": [],
   "source": []
  }
 ],
 "metadata": {
  "kernelspec": {
   "display_name": "Python [conda env:my_env] *",
   "language": "python",
   "name": "conda-env-my_env-py"
  },
  "language_info": {
   "codemirror_mode": {
    "name": "ipython",
    "version": 3
   },
   "file_extension": ".py",
   "mimetype": "text/x-python",
   "name": "python",
   "nbconvert_exporter": "python",
   "pygments_lexer": "ipython3",
   "version": "3.7.7"
  }
 },
 "nbformat": 4,
 "nbformat_minor": 4
}
