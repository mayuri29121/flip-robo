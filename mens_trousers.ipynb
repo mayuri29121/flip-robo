{
 "cells": [
  {
   "cell_type": "code",
   "execution_count": 1,
   "metadata": {},
   "outputs": [],
   "source": [
    "from selenium import webdriver \n",
    "import os\n",
    "\n",
    "driver=webdriver.Chrome(executable_path= 'chromedriver.exe')"
   ]
  },
  {
   "cell_type": "code",
   "execution_count": 10,
   "metadata": {},
   "outputs": [],
   "source": [
    "my_page=driver.get(\"https://www.flipkart.com/clothing-and-accessories/bottomwear/trouser/men-trouser/pr?sid=clo%2Cvua%2Cmle%2Clhk&otracker=categorytree&p%5B%5D=facets.occasion%255B%255D%3DFormal&otracker=nmenu_sub_Men_0_Formal%20Trousers\")"
   ]
  },
  {
   "cell_type": "code",
   "execution_count": 11,
   "metadata": {},
   "outputs": [],
   "source": [
    "my_driver1=driver.get(\"https://www.flipkart.com/clothing-and-accessories/bottomwear/trouser/men-trouser/pr?sid=clo%2Cvua%2Cmle%2Clhk&otracker=categorytree&p%5B%5D=facets.occasion%255B%255D%3DFormal&otracker=nmenu_sub_Men_0_Formal+Trousers&page=2\")"
   ]
  },
  {
   "cell_type": "code",
   "execution_count": null,
   "metadata": {},
   "outputs": [],
   "source": []
  },
  {
   "cell_type": "code",
   "execution_count": 12,
   "metadata": {},
   "outputs": [],
   "source": [
    "def make_directory(dirname):\n",
    "    current_path=os.getcwd()\n",
    "    path=os.path.join(current_path,dirname)\n",
    "    if not os.path.exists(path):\n",
    "        os.makedirs(path)"
   ]
  },
  {
   "cell_type": "code",
   "execution_count": null,
   "metadata": {},
   "outputs": [],
   "source": []
  },
  {
   "cell_type": "code",
   "execution_count": 13,
   "metadata": {},
   "outputs": [],
   "source": [
    "make_directory(\"mens_trousers\")"
   ]
  },
  {
   "cell_type": "code",
   "execution_count": null,
   "metadata": {},
   "outputs": [],
   "source": []
  },
  {
   "cell_type": "code",
   "execution_count": 14,
   "metadata": {},
   "outputs": [
    {
     "name": "stdout",
     "output_type": "stream",
     "text": [
      "[<selenium.webdriver.remote.webelement.WebElement (session=\"3627a69765073b6d35da4a335a709dca\", element=\"2eebbb6f-bb5a-4c5d-9ff7-06591daa66eb\")>, <selenium.webdriver.remote.webelement.WebElement (session=\"3627a69765073b6d35da4a335a709dca\", element=\"52a4e382-d0da-4393-84a8-075b9e9af39d\")>, <selenium.webdriver.remote.webelement.WebElement (session=\"3627a69765073b6d35da4a335a709dca\", element=\"ba057744-a163-4125-add3-078c80fb64e5\")>, <selenium.webdriver.remote.webelement.WebElement (session=\"3627a69765073b6d35da4a335a709dca\", element=\"add68a20-cfb6-474a-a9cb-3cb2237e07aa\")>, <selenium.webdriver.remote.webelement.WebElement (session=\"3627a69765073b6d35da4a335a709dca\", element=\"6f455f1a-1ff5-4826-af13-f67c98b29449\")>, <selenium.webdriver.remote.webelement.WebElement (session=\"3627a69765073b6d35da4a335a709dca\", element=\"379de1c4-c348-45b7-b556-6ac80a7e5c3c\")>, <selenium.webdriver.remote.webelement.WebElement (session=\"3627a69765073b6d35da4a335a709dca\", element=\"c4544010-6336-43bf-bf12-25149e4746fd\")>, <selenium.webdriver.remote.webelement.WebElement (session=\"3627a69765073b6d35da4a335a709dca\", element=\"ceaca7d9-3301-4fd6-9fbd-f5109a44a4d9\")>, <selenium.webdriver.remote.webelement.WebElement (session=\"3627a69765073b6d35da4a335a709dca\", element=\"13c511bd-9ff3-45df-ba70-a9fa1f4c23cc\")>, <selenium.webdriver.remote.webelement.WebElement (session=\"3627a69765073b6d35da4a335a709dca\", element=\"dd97b878-21cb-4554-8935-306e34e1fa9e\")>, <selenium.webdriver.remote.webelement.WebElement (session=\"3627a69765073b6d35da4a335a709dca\", element=\"df65b495-5ff8-4a4f-ba56-9b0fda0a90fa\")>, <selenium.webdriver.remote.webelement.WebElement (session=\"3627a69765073b6d35da4a335a709dca\", element=\"e86295af-c495-4b02-881c-48b7818fa8f9\")>, <selenium.webdriver.remote.webelement.WebElement (session=\"3627a69765073b6d35da4a335a709dca\", element=\"a1d5d7be-b458-461b-aee3-ce4a7f9f4761\")>, <selenium.webdriver.remote.webelement.WebElement (session=\"3627a69765073b6d35da4a335a709dca\", element=\"7c991032-3122-4bab-893c-14a2f0281341\")>, <selenium.webdriver.remote.webelement.WebElement (session=\"3627a69765073b6d35da4a335a709dca\", element=\"b52375e8-919e-4ce6-a235-dc83eead8320\")>, <selenium.webdriver.remote.webelement.WebElement (session=\"3627a69765073b6d35da4a335a709dca\", element=\"45017d3f-1993-4dd5-8e4b-e899b098c153\")>, <selenium.webdriver.remote.webelement.WebElement (session=\"3627a69765073b6d35da4a335a709dca\", element=\"ccd6065f-3ec5-4adf-bd5f-2b69f9ca2db5\")>, <selenium.webdriver.remote.webelement.WebElement (session=\"3627a69765073b6d35da4a335a709dca\", element=\"916f68b3-fad7-4819-9add-b470e532a6c7\")>, <selenium.webdriver.remote.webelement.WebElement (session=\"3627a69765073b6d35da4a335a709dca\", element=\"e6fd35a7-1981-46d5-9080-11f3ebabab2d\")>, <selenium.webdriver.remote.webelement.WebElement (session=\"3627a69765073b6d35da4a335a709dca\", element=\"3b85e176-a5c3-4e8b-b57d-809f4c3eeb17\")>, <selenium.webdriver.remote.webelement.WebElement (session=\"3627a69765073b6d35da4a335a709dca\", element=\"843383ab-7ae2-408e-ae11-41d54f198c0e\")>, <selenium.webdriver.remote.webelement.WebElement (session=\"3627a69765073b6d35da4a335a709dca\", element=\"c2ede9f9-c984-422a-86c5-29a8c6ce04ce\")>, <selenium.webdriver.remote.webelement.WebElement (session=\"3627a69765073b6d35da4a335a709dca\", element=\"694b1e25-0e8f-4905-9548-515f231b40dc\")>, <selenium.webdriver.remote.webelement.WebElement (session=\"3627a69765073b6d35da4a335a709dca\", element=\"00f1b5da-ed75-4de4-b047-3b7afe5e834d\")>, <selenium.webdriver.remote.webelement.WebElement (session=\"3627a69765073b6d35da4a335a709dca\", element=\"7f0b2258-ca79-4f0e-88f7-da8d82d52c9c\")>, <selenium.webdriver.remote.webelement.WebElement (session=\"3627a69765073b6d35da4a335a709dca\", element=\"4d522fb2-fe2e-4d8a-8ae4-0eb9cc279286\")>, <selenium.webdriver.remote.webelement.WebElement (session=\"3627a69765073b6d35da4a335a709dca\", element=\"59dabb71-188c-4f0a-b2eb-1e2ea9012be1\")>, <selenium.webdriver.remote.webelement.WebElement (session=\"3627a69765073b6d35da4a335a709dca\", element=\"cfe305a7-fd7a-4fa9-9a73-ca38bf8c81b9\")>, <selenium.webdriver.remote.webelement.WebElement (session=\"3627a69765073b6d35da4a335a709dca\", element=\"45b8b3ef-0101-4db2-9d06-abce4ea2d00f\")>, <selenium.webdriver.remote.webelement.WebElement (session=\"3627a69765073b6d35da4a335a709dca\", element=\"51303196-d29b-48c3-b6e3-08efc4bc353c\")>, <selenium.webdriver.remote.webelement.WebElement (session=\"3627a69765073b6d35da4a335a709dca\", element=\"404ce0b0-bb55-4490-be36-3d099eaab91b\")>, <selenium.webdriver.remote.webelement.WebElement (session=\"3627a69765073b6d35da4a335a709dca\", element=\"c5580848-a8c8-4712-9cdf-637f430bec79\")>, <selenium.webdriver.remote.webelement.WebElement (session=\"3627a69765073b6d35da4a335a709dca\", element=\"d2d5761b-d418-43ab-8244-d450a3ab1905\")>, <selenium.webdriver.remote.webelement.WebElement (session=\"3627a69765073b6d35da4a335a709dca\", element=\"ae77ce85-a4c7-46e6-bb9f-1a7cd5ce0ab1\")>, <selenium.webdriver.remote.webelement.WebElement (session=\"3627a69765073b6d35da4a335a709dca\", element=\"7941620d-1aa9-42d9-bfa6-4e428cb774ca\")>, <selenium.webdriver.remote.webelement.WebElement (session=\"3627a69765073b6d35da4a335a709dca\", element=\"6cb34fd1-44e1-46a3-9a24-06a4906dd32b\")>, <selenium.webdriver.remote.webelement.WebElement (session=\"3627a69765073b6d35da4a335a709dca\", element=\"752505b1-b11f-4782-99c3-79cd78c829e5\")>, <selenium.webdriver.remote.webelement.WebElement (session=\"3627a69765073b6d35da4a335a709dca\", element=\"8160ced3-2d6b-4276-a54b-e99e491f54ac\")>, <selenium.webdriver.remote.webelement.WebElement (session=\"3627a69765073b6d35da4a335a709dca\", element=\"7389404f-1ed5-42ce-a5f5-a3ad51ac0d36\")>, <selenium.webdriver.remote.webelement.WebElement (session=\"3627a69765073b6d35da4a335a709dca\", element=\"59ad5338-61e6-4f73-b4a7-47c7aa4f8d1d\")>]\n"
     ]
    }
   ],
   "source": [
    "images=driver.find_elements_by_xpath(\"//img[@class='_3togXc']\")\n",
    "print(images)"
   ]
  },
  {
   "cell_type": "code",
   "execution_count": null,
   "metadata": {},
   "outputs": [],
   "source": []
  },
  {
   "cell_type": "code",
   "execution_count": 18,
   "metadata": {},
   "outputs": [
    {
     "name": "stdout",
     "output_type": "stream",
     "text": [
      "https://rukminim1.flixcart.com/image/330/396/k5e7o280/trouser/z/y/z/32-rmts03640-k6-raymond-original-imafzfhumytn5yhx.jpeg?q=50\n",
      "https://rukminim1.flixcart.com/image/330/396/k58hwnk0/trouser/z/3/j/32-petfmnspo02881-peter-england-original-imafnxyxghegfyhr.jpeg?q=50\n",
      "https://rukminim1.flixcart.com/image/330/396/k5h2jrk0/trouser/7/y/2/32-afyotr0002-arrow-original-imafz4qgthghdngm.jpeg?q=50\n",
      "https://rukminim1.flixcart.com/image/330/396/k6jnfrk0/trouser/f/6/v/32-petfmnsp559465-peter-england-original-imafzzkfgn2fgz5h.jpeg?q=50\n",
      "https://rukminim1.flixcart.com/image/330/396/kb2jmvk0/trouser/r/z/q/32-packof2-baleno-green-coffi-aa-ad-av-original-imafsg27kryrhzu9.jpeg?q=50\n",
      "https://rukminim1.flixcart.com/image/330/396/k79dd3k0/trouser/9/z/f/30-petfmnspg72520-peter-england-original-imafpjkadratxahw.jpeg?q=50\n",
      "https://rukminim1.flixcart.com/image/330/396/k7w8eq80/trouser/9/g/y/32-afyotr0080-arrow-original-imafqyfgymkubyc6.jpeg?q=50\n",
      "https://rukminim1.flixcart.com/image/330/396/j1qqs280/trouser/q/4/2/44-236-2by2-coffi-bb-ad-av-original-imaet6zm3vuwshuv.jpeg?q=50\n",
      "https://rukminim1.flixcart.com/image/330/396/jxgflow0/trouser/d/c/w/40-combo-trouser-baleno-creamand-green-aa-ad-av-original-imafhurayzpkxbun.jpeg?q=50\n",
      "https://rukminim1.flixcart.com/image/330/396/jxjahe80/trouser/w/y/u/44-rmts02827-g7-raymond-original-imafhwe5bcwjwvay.jpeg?q=50\n",
      "https://rukminim1.flixcart.com/image/330/396/k3erngw0/trouser/z/e/6/30-rmts03536-b6-raymond-original-imafmjd6vxg4kkan.jpeg?q=50\n",
      "https://rukminim1.flixcart.com/image/330/396/jwaztzk0/trouser/t/w/c/40-t-127-trouser-baleno-cream-aa-ad-av-original-imafhyt5ane2grs5.jpeg?q=50\n",
      "https://rukminim1.flixcart.com/image/330/396/k4324y80/trouser/2/h/k/32-rmts03269-b6-raymond-original-imafnfbtkb8fbkrv.jpeg?q=50\n",
      "https://rukminim1.flixcart.com/image/330/396/k1dw70w0/trouser/f/a/r/40-bhalu-classio-original-imafkywxyxwa2nnc.jpeg?q=50\n",
      "https://rukminim1.flixcart.com/image/330/396/k4324y80/trouser/f/r/c/32-petfmnspf14062-peter-england-original-imafnyr28vse3wq9.jpeg?q=50\n",
      "https://rukminim1.flixcart.com/image/330/396/jtd98y80/trouser/g/t/p/36-vhtffcffj63417-van-heusen-original-imafegmppsn4amhz.jpeg?q=50\n",
      "https://rukminim1.flixcart.com/image/330/396/k83dlzk0/trouser/q/p/4/30-rmts03638-k6-raymond-original-imafq6zhh7ux4aty.jpeg?q=50\n",
      "https://rukminim1.flixcart.com/image/330/396/k37mg7k0/trouser/2/k/t/32-pmtx06092-f5-park-avenue-original-imafmds8zjth7c3w.jpeg?q=50\n",
      "https://rukminim1.flixcart.com/image/330/396/k4vmxzk0/trouser/m/x/x/32-rmts03548-b9-raymond-original-imafnmkh3ynvwfge.jpeg?q=50\n",
      "https://rukminim1.flixcart.com/image/330/396/k5cs87k0/trouser/r/q/z/32-rmts03618-k7-raymond-original-imafzfmya7yhuzf5.jpeg?q=50\n",
      "https://rukminim1.flixcart.com/image/330/396/k37mg7k0/trouser/p/g/e/32-rmts03269-g4-raymond-original-imafmds9aywtcgka.jpeg?q=50\n",
      "https://rukminim1.flixcart.com/image/330/396/k5h2jrk0/trouser/a/v/z/32-afyotr0010-arrow-original-imafz4qgv6fqgsgc.jpeg?q=50\n",
      "https://rukminim1.flixcart.com/image/330/396/k83dlzk0/trouser/r/j/7/32-rmts03625-o6-raymond-original-imafq6zhcdpxhaxq.jpeg?q=50\n",
      "https://rukminim1.flixcart.com/image/330/396/k44hksw0/trouser/a/w/h/32-rmts03535-g6-raymond-original-imafnfbtjdhafpgh.jpeg?q=50\n",
      "https://rukminim1.flixcart.com/image/330/396/k83dlzk0/trouser/h/a/e/30-rmts03638-o6-raymond-original-imafq6zh9mjg8h2f.jpeg?q=50\n",
      "https://rukminim1.flixcart.com/image/330/396/k79dd3k0/trouser/r/c/h/36-petfmctfc84637-peter-england-original-imafpjkaa2gz4zyh.jpeg?q=50\n",
      "https://rukminim1.flixcart.com/image/330/396/k4324y80/trouser/a/v/s/32-rmts03269-k6-raymond-original-imafnfbturu5sump.jpeg?q=50\n",
      "https://rukminim1.flixcart.com/image/330/396/jpr86fk0/trouser/3/q/a/m-rmts02829-g6-raymond-original-imafbx9kazj6ucxg.jpeg?q=50\n",
      "https://rukminim1.flixcart.com/image/330/396/k5msb680/trouser/d/b/n/32-rmts03629-o6-raymond-original-imafz2k5hgrf6wgf.jpeg?q=50\n",
      "https://rukminim1.flixcart.com/image/330/396/k5e7o280/trouser/z/4/f/36-rmts03622-g6-raymond-original-imafz3yxfraq7hwa.jpeg?q=50\n",
      "https://rukminim1.flixcart.com/image/330/396/k5lcvbk0/trouser/r/g/b/32-astpwsrfu89716-allen-solly-original-imafz2g2zyf6ys4x.jpeg?q=50\n",
      "https://rukminim1.flixcart.com/image/330/396/k12go7k0/trouser/d/z/g/32-rmts03221-b6-raymond-original-imafkq63k5zh5tcn.jpeg?q=50\n",
      "https://rukminim1.flixcart.com/image/330/396/k4bms280/trouser/u/3/v/32-rmts03535-g7-raymond-original-imafn9gv3vv4rjkm.jpeg?q=50\n",
      "https://rukminim1.flixcart.com/image/330/396/k5e7o280/trouser/h/b/f/30-putfusspu10269-peter-england-university-original-imafz36aguyjqtgp.jpeg?q=50\n",
      "https://rukminim1.flixcart.com/image/330/396/k7285u80/trouser/n/d/z/32-mss20ftr009f-metronaut-original-imafpdya6axnah7s.jpeg?q=50\n",
      "https://rukminim1.flixcart.com/image/330/396/jwaztzk0/trouser/8/j/y/34-t-129-trouser-baleno-coffi-aa-ad-av-original-imafgm8qarxbgnjy.jpeg?q=50\n",
      "https://rukminim1.flixcart.com/image/330/396/jwtkk280/trouser/c/f/8/42-afxtr2070-arrow-original-imafefgjkbjcjvxg.jpeg?q=50\n",
      "https://rukminim1.flixcart.com/image/330/396/k4u7i4w0/trouser/w/r/e/48-petfmnspf91228-peter-england-original-imafnmsttsxvjsbm.jpeg?q=50\n",
      "https://rukminim1.flixcart.com/image/330/396/k37mg7k0/trouser/f/z/j/32-aw19ftr005b-metronaut-original-imafmebzyrjfypqu.jpeg?q=50\n",
      "https://rukminim1.flixcart.com/image/330/396/k3erngw0/trouser/f/c/s/30-rmts03541-b8-raymond-original-imafmjd6ujjzyxbz.jpeg?q=50\n"
     ]
    }
   ],
   "source": [
    "urls=[]\n",
    "for image in images:\n",
    "    source =image.get_attribute('src')\n",
    "    urls.append(source)\n",
    "    print(source)"
   ]
  },
  {
   "cell_type": "code",
   "execution_count": null,
   "metadata": {},
   "outputs": [],
   "source": []
  },
  {
   "cell_type": "code",
   "execution_count": null,
   "metadata": {},
   "outputs": [],
   "source": []
  },
  {
   "cell_type": "code",
   "execution_count": null,
   "metadata": {},
   "outputs": [],
   "source": []
  },
  {
   "cell_type": "code",
   "execution_count": 20,
   "metadata": {},
   "outputs": [
    {
     "data": {
      "text/plain": [
       "40"
      ]
     },
     "execution_count": 20,
     "metadata": {},
     "output_type": "execute_result"
    }
   ],
   "source": [
    "len(urls)"
   ]
  },
  {
   "cell_type": "code",
   "execution_count": null,
   "metadata": {},
   "outputs": [],
   "source": []
  },
  {
   "cell_type": "code",
   "execution_count": null,
   "metadata": {},
   "outputs": [],
   "source": []
  },
  {
   "cell_type": "code",
   "execution_count": null,
   "metadata": {},
   "outputs": [],
   "source": []
  },
  {
   "cell_type": "code",
   "execution_count": 8,
   "metadata": {},
   "outputs": [],
   "source": [
    "import shutil\n",
    "import requests"
   ]
  },
  {
   "cell_type": "code",
   "execution_count": 23,
   "metadata": {},
   "outputs": [
    {
     "name": "stdout",
     "output_type": "stream",
     "text": [
      "Downloading 1 of 40 images\n",
      "Downloading 2 of 40 images\n",
      "Downloading 3 of 40 images\n",
      "Downloading 4 of 40 images\n",
      "Downloading 5 of 40 images\n",
      "Downloading 6 of 40 images\n",
      "Downloading 7 of 40 images\n",
      "Downloading 8 of 40 images\n",
      "Downloading 9 of 40 images\n",
      "Downloading 10 of 40 images\n",
      "Downloading 11 of 40 images\n",
      "Downloading 12 of 40 images\n",
      "Downloading 13 of 40 images\n",
      "Downloading 14 of 40 images\n",
      "Downloading 15 of 40 images\n",
      "Downloading 16 of 40 images\n",
      "Downloading 17 of 40 images\n",
      "Downloading 18 of 40 images\n",
      "Downloading 19 of 40 images\n",
      "Downloading 20 of 40 images\n",
      "Downloading 21 of 40 images\n",
      "Downloading 22 of 40 images\n",
      "Downloading 23 of 40 images\n",
      "Downloading 24 of 40 images\n",
      "Downloading 25 of 40 images\n",
      "Downloading 26 of 40 images\n",
      "Downloading 27 of 40 images\n",
      "Downloading 28 of 40 images\n",
      "Downloading 29 of 40 images\n",
      "Downloading 30 of 40 images\n",
      "Downloading 31 of 40 images\n",
      "Downloading 32 of 40 images\n",
      "Downloading 33 of 40 images\n",
      "Downloading 34 of 40 images\n",
      "Downloading 35 of 40 images\n",
      "Downloading 36 of 40 images\n",
      "Downloading 37 of 40 images\n",
      "Downloading 38 of 40 images\n",
      "Downloading 39 of 40 images\n",
      "Downloading 40 of 40 images\n"
     ]
    }
   ],
   "source": [
    "\n",
    "    for index, link in enumerate(urls):\n",
    "        print ('Downloading {0} of {1} images'.format(index+1 ,len(urls)))\n",
    "        response = requests.get(link)\n",
    "        with open('mens_trousers/img_{0}.jpeg'.format(index),\"wb\")as file:\n",
    "            file.write(response.content)"
   ]
  },
  {
   "cell_type": "code",
   "execution_count": null,
   "metadata": {},
   "outputs": [],
   "source": []
  },
  {
   "cell_type": "code",
   "execution_count": null,
   "metadata": {},
   "outputs": [],
   "source": []
  },
  {
   "cell_type": "code",
   "execution_count": null,
   "metadata": {},
   "outputs": [],
   "source": []
  },
  {
   "cell_type": "code",
   "execution_count": null,
   "metadata": {},
   "outputs": [],
   "source": []
  }
 ],
 "metadata": {
  "kernelspec": {
   "display_name": "Python 3",
   "language": "python",
   "name": "python3"
  },
  "language_info": {
   "codemirror_mode": {
    "name": "ipython",
    "version": 3
   },
   "file_extension": ".py",
   "mimetype": "text/x-python",
   "name": "python",
   "nbconvert_exporter": "python",
   "pygments_lexer": "ipython3",
   "version": "3.7.6"
  }
 },
 "nbformat": 4,
 "nbformat_minor": 4
}
